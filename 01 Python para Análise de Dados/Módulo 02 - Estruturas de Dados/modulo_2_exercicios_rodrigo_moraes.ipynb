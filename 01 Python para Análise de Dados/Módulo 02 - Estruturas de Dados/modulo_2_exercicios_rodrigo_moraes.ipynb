{
  "nbformat": 4,
  "nbformat_minor": 0,
  "metadata": {
    "colab": {
      "name": "modulo_2_exercicios_rodrigo_moraes.ipynb",
      "provenance": [],
      "collapsed_sections": [],
      "toc_visible": true
    },
    "kernelspec": {
      "name": "python3",
      "display_name": "Python 3"
    }
  },
  "cells": [
    {
      "cell_type": "markdown",
      "metadata": {
        "id": "KJqp9AANOCtf"
      },
      "source": [
        "<img src=\"https://raw.githubusercontent.com/andre-marcos-perez/ebac-course-utils/main/media/logo/newebac_logo_black_half.png\" alt=\"ebac-logo\">\n",
        "\n",
        "---\n",
        "\n",
        "# **Módulo 02** | Python: Estruturas de Dados\n",
        "Caderno de **Exercícios**<br> \n",
        "Aluno [Rodrigo Moraes](https://www.linkedin.com/in/moraes-rodrigo/)\n",
        "\n",
        "---"
      ]
    },
    {
      "cell_type": "markdown",
      "metadata": {
        "id": "d9jDtUbDOE1-"
      },
      "source": [
        "# **Tópicos**\n",
        "\n",
        "<ol type=\"1\">\n",
        "  <li>Listas;</li>\n",
        "  <li>Conjuntos;</li>\n",
        "  <li>Dicionários.</li>\n",
        "</ol>"
      ]
    },
    {
      "cell_type": "markdown",
      "metadata": {
        "id": "SmoHgt-lwkpD"
      },
      "source": [
        "---"
      ]
    },
    {
      "cell_type": "markdown",
      "metadata": {
        "id": "GABI6OW8OfQ2"
      },
      "source": [
        "# **Exercícios**"
      ]
    },
    {
      "cell_type": "markdown",
      "metadata": {
        "id": "muD1vxozykSC"
      },
      "source": [
        "## 1\\. Listas"
      ]
    },
    {
      "cell_type": "markdown",
      "metadata": {
        "id": "ahrFfCuBxJKs"
      },
      "source": [
        "Criei uma lista chamada `filmes` com o nome dos 10 primeiros filmes mais bem avaliados no site no [IMDB](https://www.imdb.com/chart/top/). Imprima o resultado."
      ]
    },
    {
      "cell_type": "code",
      "metadata": {
        "id": "OgL6Hv3bzOHI",
        "colab": {
          "base_uri": "https://localhost:8080/"
        },
        "outputId": "15e947fd-027a-4fd1-b74f-736b6fc5856f"
      },
      "source": [
        "filmes = ['Um Sonho de Liberdade',\n",
        "          'O Poderoso Chefão',\n",
        "          'O Poderoso Chefão II',\n",
        "          'Batman: O Cavaleiro das Trevas',\n",
        "          '12 Homens e uma Sentença',\n",
        "          'A Lista de Schindler',\n",
        "          'O Senhor dos Anéis: O Retorno do Rei',\n",
        "          'Pulp Fiction: Tempo de Violência',\n",
        "          'Três Homens em Conflito',\n",
        "          'O Senhor dos Anéis: A Sociedade do Anel']\n",
        "\n",
        "print(filmes)"
      ],
      "execution_count": 12,
      "outputs": [
        {
          "output_type": "stream",
          "text": [
            "['Um Sonho de Liberdade', 'O Poderoso Chefão', 'O Poderoso Chefão II', 'Batman: O Cavaleiro das Trevas', '12 Homens e uma Sentença', 'A Lista de Schindler', 'O Senhor dos Anéis: O Retorno do Rei', 'Pulp Fiction: Tempo de Violência', 'Três Homens em Conflito', 'O Senhor dos Anéis: A Sociedade do Anel']\n"
          ],
          "name": "stdout"
        }
      ]
    },
    {
      "cell_type": "markdown",
      "metadata": {
        "id": "KI9zQRT2xa7m"
      },
      "source": [
        "Simule a movimentação do *ranking*. Utilize os métodos `insert` e `pop` para trocar a posição do primeiro e do segundo filme da lista. Imprima o resultado.\n",
        "\n"
      ]
    },
    {
      "cell_type": "code",
      "metadata": {
        "id": "zX3mA3_GzrXH",
        "colab": {
          "base_uri": "https://localhost:8080/"
        },
        "outputId": "55bf37e5-f1cc-4a56-9526-b6dff60562dc"
      },
      "source": [
        "filmes.insert(0,filmes.pop(1))\n",
        "\n",
        "print(filmes)"
      ],
      "execution_count": 13,
      "outputs": [
        {
          "output_type": "stream",
          "text": [
            "['O Poderoso Chefão', 'Um Sonho de Liberdade', 'O Poderoso Chefão II', 'Batman: O Cavaleiro das Trevas', '12 Homens e uma Sentença', 'A Lista de Schindler', 'O Senhor dos Anéis: O Retorno do Rei', 'Pulp Fiction: Tempo de Violência', 'Três Homens em Conflito', 'O Senhor dos Anéis: A Sociedade do Anel']\n"
          ],
          "name": "stdout"
        }
      ]
    },
    {
      "cell_type": "markdown",
      "metadata": {
        "id": "zMN1Q3jdwoJm"
      },
      "source": [
        "---"
      ]
    },
    {
      "cell_type": "markdown",
      "metadata": {
        "id": "lxa5L6uF0ZJE"
      },
      "source": [
        "## 2\\. Conjuntos"
      ]
    },
    {
      "cell_type": "markdown",
      "metadata": {
        "id": "9JahS2Kj0d5u"
      },
      "source": [
        "Aconteceu um erro no seu *ranking*. Simule a duplicação dos três últimos filmes da lista. Imprima o resultado."
      ]
    },
    {
      "cell_type": "code",
      "metadata": {
        "id": "BnjnLBNC6PGe",
        "colab": {
          "base_uri": "https://localhost:8080/"
        },
        "outputId": "b7a894fa-d248-40cc-f3ca-ef756586c1f5"
      },
      "source": [
        "filmes = ['Um Sonho de Liberdade',\n",
        "          'O Poderoso Chefão',\n",
        "          'O Poderoso Chefão II',\n",
        "          'Batman: O Cavaleiro das Trevas',\n",
        "          '12 Homens e uma Sentença',\n",
        "          'A Lista de Schindler',\n",
        "          'O Senhor dos Anéis: O Retorno do Rei',\n",
        "          'Pulp Fiction: Tempo de Violência',\n",
        "          'Três Homens em Conflito',\n",
        "          'O Senhor dos Anéis: A Sociedade do Anel',\n",
        "          'Pulp Fiction: Tempo de Violência',\n",
        "          'Três Homens em Conflito',\n",
        "          'O Senhor dos Anéis: A Sociedade do Anel']\n",
        "\n",
        "print(filmes)\n",
        "print(len(filmes))"
      ],
      "execution_count": 18,
      "outputs": [
        {
          "output_type": "stream",
          "text": [
            "['Um Sonho de Liberdade', 'O Poderoso Chefão', 'O Poderoso Chefão II', 'Batman: O Cavaleiro das Trevas', '12 Homens e uma Sentença', 'A Lista de Schindler', 'O Senhor dos Anéis: O Retorno do Rei', 'Pulp Fiction: Tempo de Violência', 'Três Homens em Conflito', 'O Senhor dos Anéis: A Sociedade do Anel', 'Pulp Fiction: Tempo de Violência', 'Três Homens em Conflito', 'O Senhor dos Anéis: A Sociedade do Anel']\n",
            "13\n"
          ],
          "name": "stdout"
        }
      ]
    },
    {
      "cell_type": "markdown",
      "metadata": {
        "id": "suxTfCJB6ZiX"
      },
      "source": [
        "Utiliza a conversão `set` e `list` para remover os valores duplicados. Imprima o resultado. "
      ]
    },
    {
      "cell_type": "code",
      "metadata": {
        "id": "ZvUGN-0n6joM",
        "colab": {
          "base_uri": "https://localhost:8080/"
        },
        "outputId": "d92d55ac-9bed-45db-9434-18bab54ca0df"
      },
      "source": [
        "filmes = list(set(filmes))\n",
        "\n",
        "print(filmes)\n",
        "print(len(filmes)) #Para comparar com o len anterior e confirmar que os repetidos foram excluídos"
      ],
      "execution_count": 19,
      "outputs": [
        {
          "output_type": "stream",
          "text": [
            "['O Senhor dos Anéis: O Retorno do Rei', 'Batman: O Cavaleiro das Trevas', 'Três Homens em Conflito', 'O Senhor dos Anéis: A Sociedade do Anel', 'A Lista de Schindler', 'O Poderoso Chefão', 'Um Sonho de Liberdade', 'Pulp Fiction: Tempo de Violência', 'O Poderoso Chefão II', '12 Homens e uma Sentença']\n",
            "10\n"
          ],
          "name": "stdout"
        }
      ]
    },
    {
      "cell_type": "markdown",
      "metadata": {
        "id": "ShkK35eQ6pAM"
      },
      "source": [
        "---"
      ]
    },
    {
      "cell_type": "markdown",
      "metadata": {
        "id": "EL_FzmxL6rTv"
      },
      "source": [
        "## 3\\. Dicionários"
      ]
    },
    {
      "cell_type": "markdown",
      "metadata": {
        "id": "i8l0gFqRCpfT"
      },
      "source": [
        "Repita os exercícios da parte 1 (listas). Os elementos da lista `filmes` devem ser dicionários no seguinte formato: `{'nome': <nome-do-filme>, 'ano': <ano do filme>}, 'sinopse': <sinopse do filme>}`. "
      ]
    },
    {
      "cell_type": "code",
      "metadata": {
        "colab": {
          "base_uri": "https://localhost:8080/"
        },
        "id": "gawE40IH3xeo",
        "outputId": "eb74f04f-db52-451d-bdfb-33da657d4547"
      },
      "source": [
        "filmes = {\n",
        "    '1º colocado': {\n",
        "        'nome':'Um Sonho de Liberdade',\n",
        "        'ano':'1994',\n",
        "        'sinopse': '<sinopse do filme>'\n",
        "    },\n",
        "    '2º colocado': {\n",
        "        'nome':'O Poderoso Chefão',\n",
        "        'ano':'1972',\n",
        "        'sinopse': '<sinopse do filme>'\n",
        "    },\n",
        "    '3º colocado': {\n",
        "        'nome':'O Poderoso Chefão II',\n",
        "        'ano':'1974',\n",
        "        'sinopse': '<sinopse do filme>'\n",
        "    },\n",
        "    '4º colocado': {\n",
        "        'nome':'Batman: O Cavaleiro das Trevas',\n",
        "        'ano':'2008',\n",
        "        'sinopse': '<sinopse do filme>'\n",
        "    },\n",
        "    '5º colocado': {\n",
        "        'nome':'12 Homens e uma Sentença',\n",
        "        'ano':'1957',\n",
        "        'sinopse': '<sinopse do filme>'\n",
        "    },\n",
        "    '6º colocado': {\n",
        "        'nome':'A Lista de Schindler',\n",
        "        'ano':'1993',\n",
        "        'sinopse': '<sinopse do filme>'\n",
        "    },\n",
        "    '7º colocado': {\n",
        "        'nome':'O Senhor dos Anéis: O Retorno do Rei',\n",
        "        'ano':'2003',\n",
        "        'sinopse': '<sinopse do filme>'\n",
        "    },\n",
        "    '8º colocado': {\n",
        "        'nome':'Pulp Fiction: Tempo de Violência',\n",
        "        'ano':'1994',\n",
        "        'sinopse': '<sinopse do filme>'\n",
        "    },\n",
        "    '9º colocado': {\n",
        "        'nome':'Três Homens em Conflito',\n",
        "        'ano':'1966',\n",
        "        'sinopse': '<sinopse do filme>'\n",
        "    },\n",
        "    '10º colocado': {\n",
        "        'nome':'O Senhor dos Anéis: A Sociedade do Anel',\n",
        "        'ano':'2001',\n",
        "        'sinopse': '<sinopse do filme>'\n",
        "    }\n",
        "}\n",
        "\n",
        "print(filmes)\n",
        "\n",
        "filme_a = filmes['1º colocado']\n",
        "filme_b = filmes['2º colocado']\n",
        "\n",
        "filmes['1º colocado'] = filme_b\n",
        "filmes['2º colocado'] = filme_a\n",
        "\n",
        "print(filmes)"
      ],
      "execution_count": 7,
      "outputs": [
        {
          "output_type": "stream",
          "text": [
            "{'1º colocado': {'nome': 'Um Sonho de Liberdade', 'ano': '1994', 'sinopse': '<sinopse do filme>'}, '2º colocado': {'nome': 'O Poderoso Chefão', 'ano': '1972', 'sinopse': '<sinopse do filme>'}, '3º colocado': {'nome': 'O Poderoso Chefão II', 'ano': '1974', 'sinopse': '<sinopse do filme>'}, '4º colocado': {'nome': 'Batman: O Cavaleiro das Trevas', 'ano': '2008', 'sinopse': '<sinopse do filme>'}, '5º colocado': {'nome': '12 Homens e uma Sentença', 'ano': '1957', 'sinopse': '<sinopse do filme>'}, '6º colocado': {'nome': 'A Lista de Schindler', 'ano': '1993', 'sinopse': '<sinopse do filme>'}, '7º colocado': {'nome': 'O Senhor dos Anéis: O Retorno do Rei', 'ano': '2003', 'sinopse': '<sinopse do filme>'}, '8º colocado': {'nome': 'Pulp Fiction: Tempo de Violência', 'ano': '1994', 'sinopse': '<sinopse do filme>'}, '9º colocado': {'nome': 'Três Homens em Conflito', 'ano': '1966', 'sinopse': '<sinopse do filme>'}, '10º colocado': {'nome': 'O Senhor dos Anéis: A Sociedade do Anel', 'ano': '2001', 'sinopse': '<sinopse do filme>'}}\n",
            "{'1º colocado': {'nome': 'O Poderoso Chefão', 'ano': '1972', 'sinopse': '<sinopse do filme>'}, '2º colocado': {'nome': 'Um Sonho de Liberdade', 'ano': '1994', 'sinopse': '<sinopse do filme>'}, '3º colocado': {'nome': 'O Poderoso Chefão II', 'ano': '1974', 'sinopse': '<sinopse do filme>'}, '4º colocado': {'nome': 'Batman: O Cavaleiro das Trevas', 'ano': '2008', 'sinopse': '<sinopse do filme>'}, '5º colocado': {'nome': '12 Homens e uma Sentença', 'ano': '1957', 'sinopse': '<sinopse do filme>'}, '6º colocado': {'nome': 'A Lista de Schindler', 'ano': '1993', 'sinopse': '<sinopse do filme>'}, '7º colocado': {'nome': 'O Senhor dos Anéis: O Retorno do Rei', 'ano': '2003', 'sinopse': '<sinopse do filme>'}, '8º colocado': {'nome': 'Pulp Fiction: Tempo de Violência', 'ano': '1994', 'sinopse': '<sinopse do filme>'}, '9º colocado': {'nome': 'Três Homens em Conflito', 'ano': '1966', 'sinopse': '<sinopse do filme>'}, '10º colocado': {'nome': 'O Senhor dos Anéis: A Sociedade do Anel', 'ano': '2001', 'sinopse': '<sinopse do filme>'}}\n"
          ],
          "name": "stdout"
        }
      ]
    }
  ]
}