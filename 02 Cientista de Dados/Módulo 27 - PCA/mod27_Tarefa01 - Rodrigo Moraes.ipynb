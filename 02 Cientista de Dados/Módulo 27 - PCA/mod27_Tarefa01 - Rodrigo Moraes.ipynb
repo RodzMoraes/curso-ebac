{
 "cells": [
  {
   "cell_type": "markdown",
   "metadata": {},
   "source": [
    "![Cabec%CC%A7alho_notebook.png](cabecalho_notebook.png)"
   ]
  },
  {
   "cell_type": "markdown",
   "metadata": {},
   "source": [
    "# PCA - Tarefa 01: *HAR* com PCA\n",
    "\n",
    "Vamos trabalhar com a base da demonstração feita em aula, mas vamos explorar um pouco melhor como é o desempenho da árvore variando o número de componentes principais."
   ]
  },
  {
   "cell_type": "code",
   "execution_count": 9,
   "metadata": {},
   "outputs": [],
   "source": [
    "import pandas as pd\n",
    "import time\n",
    "\n",
    "from sklearn.tree import DecisionTreeClassifier\n",
    "\n",
    "from sklearn.decomposition import PCA\n",
    "from sklearn.metrics import accuracy_score\n",
    "from sklearn.model_selection import cross_val_score\n",
    "from sklearn.model_selection import GridSearchCV\n",
    "\n",
    "filename_features = 'https://raw.githubusercontent.com/RodzMoraes/curso-ebac/main/M%C3%B3dulo%2027/Dados/UCI%20HAR%20Dataset/features.txt'\n",
    "filename_labels = 'https://raw.githubusercontent.com/RodzMoraes/curso-ebac/main/M%C3%B3dulo%2027/Dados/UCI%20HAR%20Dataset/activity_labels.txt'\n",
    "\n",
    "filename_subtrain = 'https://raw.githubusercontent.com/RodzMoraes/curso-ebac/main/M%C3%B3dulo%2027/Dados/UCI%20HAR%20Dataset/train/subject_train.txt'\n",
    "filename_xtrain = 'https://raw.githubusercontent.com/RodzMoraes/curso-ebac/main/M%C3%B3dulo%2027/Dados/UCI%20HAR%20Dataset/train/X_train.txt'\n",
    "filename_ytrain = 'https://raw.githubusercontent.com/RodzMoraes/curso-ebac/main/M%C3%B3dulo%2027/Dados/UCI%20HAR%20Dataset/train/y_train.txt'\n",
    "\n",
    "filename_subtest = 'https://raw.githubusercontent.com/RodzMoraes/curso-ebac/main/M%C3%B3dulo%2027/Dados/UCI%20HAR%20Dataset/test/subject_test.txt'\n",
    "ffilename_xtest = 'https://raw.githubusercontent.com/RodzMoraes/curso-ebac/main/M%C3%B3dulo%2027/Dados/UCI%20HAR%20Dataset/test/X_test.txt'\n",
    "filename_ytest = 'https://raw.githubusercontent.com/RodzMoraes/curso-ebac/main/M%C3%B3dulo%2027/Dados/UCI%20HAR%20Dataset/test/y_test.txt'\n",
    "\n",
    "features = pd.read_csv(filename_features, header=None, names=['nome_var'], squeeze=True, sep=\"#\")\n",
    "labels = pd.read_csv(filename_labels, delim_whitespace=True, header=None, names=['cod_label', 'label'])\n",
    "\n",
    "subject_train = pd.read_csv(filename_subtrain, header=None, names=['subject_id'], squeeze=True)\n",
    "X_train = pd.read_csv(filename_xtrain, delim_whitespace=True, header=None, names=features.tolist())\n",
    "y_train = pd.read_csv(filename_ytrain, header=None, names=['cod_label'])\n",
    "\n",
    "subject_test = pd.read_csv(filename_subtest, header=None, names=['subject_id'], squeeze=True)\n",
    "X_test = pd.read_csv(ffilename_xtest, delim_whitespace=True, header=None, names=features.tolist())\n",
    "y_test = pd.read_csv(filename_ytest, header=None, names=['cod_label'])"
   ]
  },
  {
   "cell_type": "markdown",
   "metadata": {},
   "source": [
    "## Árvore de decisão\n",
    "\n",
    "Rode uma árvore de decisão com todas as variáveis, utilizando o ```ccp_alpha=0.001```. Avalie a acurácia nas bases de treinamento e teste. Avalie o tempo de processamento."
   ]
  },
  {
   "cell_type": "code",
   "execution_count": 13,
   "metadata": {},
   "outputs": [
    {
     "name": "stdout",
     "output_type": "stream",
     "text": [
      "Acurácia nos dados de treinamento: 0.9757889009793254\n",
      "Acurácia nos dados de teste: 0.8798778418730913\n",
      "Tempo de processamento (treinamento): 4.001285076141357 segundos\n",
      "Tempo de processamento (predição): 0.009507894515991211 segundos\n",
      "CPU times: user 4.01 s, sys: 14.7 ms, total: 4.02 s\n",
      "Wall time: 4.02 s\n"
     ]
    }
   ],
   "source": [
    "%%time\n",
    "\n",
    "# Exercício 1\n",
    "\n",
    "tree = DecisionTreeClassifier(ccp_alpha=0.001)\n",
    "\n",
    "start_time = time.time()\n",
    "tree.fit(X_train, y_train)\n",
    "training_time = time.time() - start_time\n",
    "\n",
    "y_train_pred = tree.predict(X_train)\n",
    "\n",
    "train_accuracy = accuracy_score(y_train, y_train_pred)\n",
    "\n",
    "start_time = time.time()\n",
    "y_test_pred = tree.predict(X_test)\n",
    "prediction_time = time.time() - start_time\n",
    "\n",
    "test_accuracy = accuracy_score(y_test, y_test_pred)\n",
    "\n",
    "print(\"Acurácia nos dados de treinamento:\", train_accuracy)\n",
    "print(\"Acurácia nos dados de teste:\", test_accuracy)\n",
    "print(\"Tempo de processamento (treinamento):\", training_time, \"segundos\")\n",
    "print(\"Tempo de processamento (predição):\", prediction_time, \"segundos\")"
   ]
  },
  {
   "cell_type": "markdown",
   "metadata": {},
   "source": [
    "## Árvore com PCA\n",
    "\n",
    "Faça uma análise de componemtes principais das variáveis originais. Utilize apenas uma componente. Faça uma árvore de decisão com esta componente como variável explicativa.\n",
    "\n",
    "- Avalie a acurácia nas bases de treinamento e teste\n",
    "- Avalie o tempo de processamento"
   ]
  },
  {
   "cell_type": "code",
   "execution_count": 14,
   "metadata": {},
   "outputs": [
    {
     "name": "stdout",
     "output_type": "stream",
     "text": [
      "Acurácia nos dados de treinamento: 1.0\n",
      "Acurácia nos dados de teste: 0.41024770953512046\n",
      "Tempo de processamento (treinamento): 0.018483877182006836 segundos\n",
      "Tempo de processamento (predição): 0.001542806625366211 segundos\n",
      "CPU times: user 345 ms, sys: 70.8 ms, total: 416 ms\n",
      "Wall time: 135 ms\n"
     ]
    }
   ],
   "source": [
    "%%time\n",
    "\n",
    "# Exercício 2\n",
    "\n",
    "pca = PCA(n_components=1)\n",
    "X_train_pca = pca.fit_transform(X_train)\n",
    "X_test_pca = pca.transform(X_test)\n",
    "\n",
    "tree = DecisionTreeClassifier()\n",
    "\n",
    "start_time = time.time()\n",
    "tree.fit(X_train_pca, y_train)\n",
    "training_time = time.time() - start_time\n",
    "\n",
    "y_train_pred = tree.predict(X_train_pca)\n",
    "\n",
    "train_accuracy = accuracy_score(y_train, y_train_pred)\n",
    "\n",
    "start_time = time.time()\n",
    "y_test_pred = tree.predict(X_test_pca)\n",
    "prediction_time = time.time() - start_time\n",
    "\n",
    "test_accuracy = accuracy_score(y_test, y_test_pred)\n",
    "\n",
    "print(\"Acurácia nos dados de treinamento:\", train_accuracy)\n",
    "print(\"Acurácia nos dados de teste:\", test_accuracy)\n",
    "print(\"Tempo de processamento (treinamento):\", training_time, \"segundos\")\n",
    "print(\"Tempo de processamento (predição):\", prediction_time, \"segundos\")"
   ]
  },
  {
   "cell_type": "markdown",
   "metadata": {},
   "source": [
    "## Testando o número de componentes\n",
    "\n",
    "Com base no código acima, teste a árvore de classificação com pelo menos as seguintes possibilidades de quantidades de componentes: ```[1, 2, 5, 10, 50]```. Avalie para cada uma delas:\n",
    "\n",
    "- Acurácia nas bases de treino e teste\n",
    "- Tempo de processamento\n"
   ]
  },
  {
   "cell_type": "code",
   "execution_count": 15,
   "metadata": {},
   "outputs": [
    {
     "name": "stdout",
     "output_type": "stream",
     "text": [
      "Testing with n_components=1\n",
      "Acurácia nos dados de treinamento: 1.0\n",
      "Acurácia nos dados de teste: 0.41024770953512046\n",
      "Tempo de processamento (treinamento): 0.022769927978515625 segundos\n",
      "Tempo de processamento (predição): 0.000789642333984375 segundos\n",
      "\n",
      "Testing with n_components=2\n",
      "Acurácia nos dados de treinamento: 1.0\n",
      "Acurácia nos dados de teste: 0.5201900237529691\n",
      "Tempo de processamento (treinamento): 0.03681683540344238 segundos\n",
      "Tempo de processamento (predição): 0.0005829334259033203 segundos\n",
      "\n",
      "Testing with n_components=5\n",
      "Acurácia nos dados de treinamento: 1.0\n",
      "Acurácia nos dados de teste: 0.7475398710553105\n",
      "Tempo de processamento (treinamento): 0.0437321662902832 segundos\n",
      "Tempo de processamento (predição): 0.0004029273986816406 segundos\n",
      "\n",
      "Testing with n_components=10\n",
      "Acurácia nos dados de treinamento: 1.0\n",
      "Acurácia nos dados de teste: 0.7926705123854768\n",
      "Tempo de processamento (treinamento): 0.08780598640441895 segundos\n",
      "Tempo de processamento (predição): 0.00040411949157714844 segundos\n",
      "\n",
      "Testing with n_components=50\n",
      "Acurácia nos dados de treinamento: 1.0\n",
      "Acurácia nos dados de teste: 0.8086189345096708\n",
      "Tempo de processamento (treinamento): 0.4998030662536621 segundos\n",
      "Tempo de processamento (predição): 0.0010411739349365234 segundos\n",
      "\n",
      "CPU times: user 3.79 s, sys: 759 ms, total: 4.55 s\n",
      "Wall time: 1.47 s\n"
     ]
    }
   ],
   "source": [
    "%%time\n",
    "\n",
    "# Exercício 3\n",
    "\n",
    "n_components_list = [1, 2, 5, 10, 50]\n",
    "\n",
    "for n_components in n_components_list:\n",
    "    print(f\"Testing with n_components={n_components}\")\n",
    "    \n",
    "    pca = PCA(n_components=n_components)\n",
    "    X_train_pca = pca.fit_transform(X_train)\n",
    "    X_test_pca = pca.transform(X_test)\n",
    "\n",
    "    tree = DecisionTreeClassifier()\n",
    "\n",
    "    start_time = time.time()\n",
    "    tree.fit(X_train_pca, y_train)\n",
    "    training_time = time.time() - start_time\n",
    "\n",
    "    y_train_pred = tree.predict(X_train_pca)\n",
    "\n",
    "    train_accuracy = accuracy_score(y_train, y_train_pred)\n",
    "\n",
    "    start_time = time.time()\n",
    "    y_test_pred = tree.predict(X_test_pca)\n",
    "    prediction_time = time.time() - start_time\n",
    "\n",
    "    test_accuracy = accuracy_score(y_test, y_test_pred)\n",
    "\n",
    "    print(\"Acurácia nos dados de treinamento:\", train_accuracy)\n",
    "    print(\"Acurácia nos dados de teste:\", test_accuracy)\n",
    "    print(\"Tempo de processamento (treinamento):\", training_time, \"segundos\")\n",
    "    print(\"Tempo de processamento (predição):\", prediction_time, \"segundos\")\n",
    "    print()"
   ]
  },
  {
   "cell_type": "markdown",
   "metadata": {},
   "source": [
    "## Conclua\n",
    "\n",
    "- O que aconteceu com a acurácia?\n",
    "- O que aconteceu com o tempo de processamento?"
   ]
  },
  {
   "cell_type": "markdown",
   "metadata": {},
   "source": [
    "### Acurácia\n",
    "- No Exercício 1, onde utilizamos todas as variáveis originais, obtivemos uma alta acurácia tanto nos dados de treinamento (97.6%) quanto nos dados de teste (87.9%).\n",
    "- No Exercício 2, ao utilizar apenas uma componente principal, a acurácia nos dados de treinamento foi de 100%, indicando um possível overfitting. No entanto, a acurácia nos dados de teste foi baixa (41.0%), sugerindo uma baixa capacidade de generalização do modelo.\n",
    "- No Exercício 3, onde testamos diferentes quantidades de componentes principais, a acurácia nos dados de treinamento foi sempre de 100%. A acurácia nos dados de teste aumentou à medida que o número de componentes principais aumentou, indicando que o modelo foi capaz de capturar mais informações relevantes dos dados. No entanto, mesmo com um aumento na acurácia, ela ainda ficou abaixo da acurácia obtida no exercício 1, indicando uma perda de informação ao reduzir a dimensionalidade dos dados.\n",
    "\n",
    "### Tempo de processamento\n",
    "- O tempo de processamento nos Exercícios 1 e 2 foi relativamente rápido, em torno de alguns segundos. Isso ocorre porque não houve a necessidade de fazer a transformação dos dados através do PCA.\n",
    "- No Exercício 3, onde aplicamos o PCA com diferentes quantidades de componentes principais, o tempo de processamento aumentou à medida que o número de componentes aumentou. Isso ocorre porque a transformação dos dados usando o PCA requer cálculos adicionais para encontrar as componentes principais. No entanto, mesmo com um aumento no tempo de processamento, ele ainda permaneceu em uma faixa aceitável para o conjunto de dados utilizado.\n",
    "\n",
    "Vimos que a redução de dimensionalidade através do PCA pode levar a uma perda de informação e, consequentemente, a uma diminuição na acurácia do modelo. Além disso, é importante considerar o tempo de processamento necessário para realizar a transformação dos dados utilizando o PCA, pois esse tempo pode aumentar à medida que o número de componentes principais aumenta.\n",
    "\n",
    "### Conclusões\n",
    "- O uso de todas as variáveis originais (Exercício 1) resultou em uma boa acurácia tanto nos dados de treinamento quanto nos dados de teste.\n",
    "- Ao reduzir as variáveis para apenas uma componente principal (Exercício 2), a acurácia nos dados de teste diminuiu consideravelmente, indicando que uma única componente não é suficiente para explicar adequadamente a variação nos dados.\n",
    "- Ao aumentar o número de componentes principais (Exercício 3), houve um aumento gradual na acurácia nos dados de teste. No entanto, é importante notar que, a partir de um certo número de componentes (por exemplo, a partir de 10), o ganho em acurácia se torna marginal.\n",
    "- O tempo de processamento aumentou à medida que o número de componentes principais aumentou, devido ao cálculo adicional necessário para transformar os dados usando o PCA.\n",
    "- Portanto verifica-se há um trade-off entre acurácia e tempo de processamento ao ajustar a quantidade de componentes principais. É necessário encontrar um equilíbrio adequado, considerando a importância da acurácia e a disponibilidade de recursos computacionais."
   ]
  }
 ],
 "metadata": {
  "kernelspec": {
   "display_name": "Python 3 (ipykernel)",
   "language": "python",
   "name": "python3"
  },
  "language_info": {
   "codemirror_mode": {
    "name": "ipython",
    "version": 3
   },
   "file_extension": ".py",
   "mimetype": "text/x-python",
   "name": "python",
   "nbconvert_exporter": "python",
   "pygments_lexer": "ipython3",
   "version": "3.10.9"
  },
  "toc": {
   "base_numbering": 1,
   "nav_menu": {},
   "number_sections": true,
   "sideBar": true,
   "skip_h1_title": true,
   "title_cell": "Índice",
   "title_sidebar": "Conteúdo",
   "toc_cell": false,
   "toc_position": {},
   "toc_section_display": true,
   "toc_window_display": false
  },
  "varInspector": {
   "cols": {
    "lenName": 16,
    "lenType": 16,
    "lenVar": 40
   },
   "kernels_config": {
    "python": {
     "delete_cmd_postfix": "",
     "delete_cmd_prefix": "del ",
     "library": "var_list.py",
     "varRefreshCmd": "print(var_dic_list())"
    },
    "r": {
     "delete_cmd_postfix": ") ",
     "delete_cmd_prefix": "rm(",
     "library": "var_list.r",
     "varRefreshCmd": "cat(var_dic_list()) "
    }
   },
   "types_to_exclude": [
    "module",
    "function",
    "builtin_function_or_method",
    "instance",
    "_Feature"
   ],
   "window_display": false
  }
 },
 "nbformat": 4,
 "nbformat_minor": 4
}
