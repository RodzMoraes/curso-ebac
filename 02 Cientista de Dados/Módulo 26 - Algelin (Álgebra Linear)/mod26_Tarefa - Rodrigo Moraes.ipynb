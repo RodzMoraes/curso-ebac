{
 "cells": [
  {
   "cell_type": "markdown",
   "metadata": {},
   "source": [
    "# Tarefa - Álgebra Linear\n",
    "\n",
    "A célula abaixo gera dados de notas de duas provas, p1 e p2, conforme em aula, mas com mais alunos.\n",
    "\n",
    "## 1. Reduzindo correlações\n",
    "\n",
    "a) Já vimos que expressar os dados através da média e diferença é uma transformação linear. Obtenha a média e a diferença através de uma multiplicação matricial, conforme visto em aula.\n",
    "\n",
    "b) Calcule a correlação entre os dados da **p1** e **p2**\n",
    "\n",
    "c) Calcule a correlação entre os dados transformados (média e diferença)\n",
    "\n",
    "d) Comente as correlações observadas."
   ]
  },
  {
   "cell_type": "code",
   "execution_count": 1,
   "metadata": {},
   "outputs": [],
   "source": [
    "import pandas as pd\n",
    "import seaborn as sns\n",
    "import numpy as np\n",
    "import matplotlib.pyplot as plt\n",
    "\n",
    "%matplotlib inline\n",
    "\n",
    "# Gerando os dados\n",
    "np.random.seed(123)\n",
    "\n",
    "p1 = np.random.random(50) *10\n",
    "p1[p1>10] = 10\n",
    "p1[p1<0] = 0\n",
    "\n",
    "p2 = p1 + np.random.normal(0,1,50)\n",
    "p2[p2>10] = 10\n",
    "p2[p2<0] = 0\n",
    "\n",
    "df = pd.DataFrame({'p1': p1, 'p2': p2})"
   ]
  },
  {
   "cell_type": "code",
   "execution_count": 2,
   "metadata": {},
   "outputs": [
    {
     "name": "stdout",
     "output_type": "stream",
     "text": [
      "Média transformada: [ 5.06235145 -0.04377278]\n",
      "Diferença transformada: [ 7.94342786  5.09953669  0.97442921  4.47435948  8.93840192  3.43300187\n",
      "  9.83732521  7.91761336  5.70002541  5.67606136  4.9274243   8.35988974\n",
      "  3.61301373  1.39164163  4.29471455  6.0536886   3.24221635  2.5617541\n",
      "  5.36100382  5.08518381  5.14570844  8.69384201  7.71299237  5.27908012\n",
      "  8.38663787  2.13238609  1.49478621  3.3223594   2.53377443  6.18373165\n",
      "  0.08353268  2.73104897  5.56386501  4.24798199  5.91925539  3.92992042\n",
      "  3.94875492  7.84798923  8.7091382   3.80584363  8.32664288  1.32062518\n",
      "  4.32306036  2.88091007  8.84412671  3.68241559  4.49533188 10.\n",
      "  4.11028328  4.76547371]\n"
     ]
    }
   ],
   "source": [
    "# a) Cálculo da média e diferença através de uma multiplicação matricial\n",
    "\n",
    "# Criando a matriz de transformação\n",
    "T = np.array([[0.5, 0.5], [0.5, -0.5]])\n",
    "\n",
    "# Aplicando a transformação aos dados\n",
    "transformed_data = df.values @ T\n",
    "\n",
    "# Obtendo a média e a diferença dos dados transformados\n",
    "mean_transformed = transformed_data.mean(axis=0)\n",
    "diff_transformed = transformed_data[:, 0] - transformed_data[:, 1]\n",
    "\n",
    "# Imprimindo os resultados\n",
    "print(\"Média transformada:\", mean_transformed)\n",
    "print(\"Diferença transformada:\", diff_transformed)"
   ]
  },
  {
   "cell_type": "code",
   "execution_count": 3,
   "metadata": {},
   "outputs": [
    {
     "name": "stdout",
     "output_type": "stream",
     "text": [
      "Correlação entre p1 e p2: 0.8957365818728046\n"
     ]
    }
   ],
   "source": [
    "# b) Cálculo da correlação entre os dados da p1 e p2\n",
    "\n",
    "# Calculando a correlação entre p1 e p2\n",
    "correlation_p1_p2 = df['p1'].corr(df['p2'])\n",
    "\n",
    "# Imprimindo o resultado\n",
    "print(\"Correlação entre p1 e p2:\", correlation_p1_p2)"
   ]
  },
  {
   "cell_type": "code",
   "execution_count": 4,
   "metadata": {},
   "outputs": [
    {
     "name": "stdout",
     "output_type": "stream",
     "text": [
      "Correlação entre os dados transformados: -0.13347385411788837\n"
     ]
    }
   ],
   "source": [
    "# c) Cálculo da correlação entre os dados transformados (média e diferença)\n",
    "\n",
    "# Calculando a correlação entre os dados transformados\n",
    "correlation_transformed = np.corrcoef(transformed_data[:, 0], transformed_data[:, 1])[0, 1]\n",
    "\n",
    "# Imprimindo o resultado\n",
    "print(\"Correlação entre os dados transformados:\", correlation_transformed)"
   ]
  },
  {
   "cell_type": "markdown",
   "metadata": {},
   "source": [
    "### Comentários sobre as correlações observadas:\n",
    "\n",
    "A correlação entre p1 e p2 indica o grau de associação linear entre essas duas variáveis. Seu valor varia de -1 a 1, onde -1 indica uma correlação negativa perfeita, 1 indica uma correlação positiva perfeita e 0 indica ausência de correlação.\n",
    "\n",
    "Já a correlação entre os dados transformados (média e diferença) mostra a associação linear entre a média e a diferença das notas. Essa correlação pode ser interpretada como uma medida da relação entre a magnitude das notas e a diferença entre elas.\n",
    "\n",
    "Você pode imprimir os resultados adicionando os comandos **`print`** mencionados acima ao final do código fornecido."
   ]
  },
  {
   "cell_type": "markdown",
   "metadata": {},
   "source": [
    "## 2. Soma e diferença\n",
    "\n",
    "Realize agora uma transformação semelhante, mas que ao invés da média, dê a soma da **p1** e **p2**. Construa o gráfico e conclua que diferenças visuais você observa."
   ]
  },
  {
   "cell_type": "code",
   "execution_count": 5,
   "metadata": {},
   "outputs": [
    {
     "data": {
      "image/png": "[encoded data removed]",
      "text/plain": [
       "<Figure size 640x480 with 1 Axes>"
      ]
     },
     "metadata": {},
     "output_type": "display_data"
    }
   ],
   "source": [
    "# Criando a matriz de transformação\n",
    "T_soma = np.array([[1, 1]])\n",
    "\n",
    "# Aplicando a transformação aos dados\n",
    "transformed_data_soma = df.values @ T_soma.T\n",
    "\n",
    "# Plotando o gráfico\n",
    "sns.scatterplot(x=transformed_data_soma[:, 0], y=transformed_data_soma[:, 0])\n",
    "plt.xlabel('Soma de p1 e p2')\n",
    "plt.ylabel('Soma de p1 e p2')\n",
    "plt.title('Gráfico da Soma de p1 e p2')\n",
    "plt.show()"
   ]
  },
  {
   "cell_type": "code",
   "execution_count": 6,
   "metadata": {
    "scrolled": true
   },
   "outputs": [
    {
     "name": "stdout",
     "output_type": "stream",
     "text": [
      "            x          y\n",
      "0   14.908120  14.908120\n",
      "1    7.960930   7.960930\n",
      "2    3.242944   3.242944\n",
      "3    9.987507   9.987507\n",
      "4   16.133092  16.133092\n",
      "5    7.664066   7.664066\n",
      "6   19.644967  19.644967\n",
      "7   14.765911  14.765911\n",
      "8   10.509344  10.509344\n",
      "9    9.597237   9.597237\n",
      "10   8.359204   8.359204\n",
      "11  15.650387  15.650387\n",
      "12   7.998736   7.998736\n",
      "13   1.988421   1.988421\n",
      "14   8.275157   8.275157\n",
      "15  13.433643  13.433643\n",
      "16   5.067134   5.067134\n",
      "17   4.316272   4.316272\n",
      "18  10.676518  10.676518\n",
      "19  10.403460  10.403460\n",
      "20  11.489718  11.489718\n",
      "21  17.188160  17.188160\n",
      "22  14.957546  14.957546\n",
      "23  11.389315  11.389315\n",
      "24  15.611072  15.611072\n",
      "25   5.361975   5.361975\n",
      "26   5.112673   5.112673\n",
      "27   5.604992   5.604992\n",
      "28   5.470915   5.470915\n",
      "29  12.493493  12.493493\n",
      "30   1.004582   1.004582\n",
      "31   7.068061   7.068061\n",
      "32   9.872493   9.872493\n",
      "33   9.184833   9.184833\n",
      "34  10.177558  10.177558\n",
      "35   7.052533   7.052533\n",
      "36   8.212268   8.212268\n",
      "37  16.781881  16.781881\n",
      "38  18.150738  18.150738\n",
      "39   8.824210   8.824210\n",
      "40  14.566172  14.566172\n",
      "41   2.476809   2.476809\n",
      "42   7.495915   7.495915\n",
      "43   7.029172   7.029172\n",
      "44  17.507218  17.507218\n",
      "45   6.186969   6.186969\n",
      "46   9.325675   9.325675\n",
      "47  19.855598  19.855598\n",
      "48   9.305134   9.305134\n",
      "49  10.894419  10.894419\n"
     ]
    }
   ],
   "source": [
    "# Obtendo as coordenadas x e y dos pontos do gráfico\n",
    "x_values = transformed_data_soma[:, 0]\n",
    "y_values = transformed_data_soma[:, 0]\n",
    "\n",
    "# Criando um DataFrame com as coordenadas\n",
    "data_table = pd.DataFrame({'x': x_values, 'y': y_values})\n",
    "\n",
    "# Imprimindo a tabela\n",
    "print(data_table)"
   ]
  },
  {
   "cell_type": "code",
   "execution_count": 7,
   "metadata": {},
   "outputs": [
    {
     "name": "stdout",
     "output_type": "stream",
     "text": [
      "               x          y\n",
      "count  50.000000  50.000000\n",
      "mean   10.124703  10.124703\n",
      "std     4.713745   4.713745\n",
      "min     1.004582   1.004582\n",
      "25%     7.056415   7.056415\n",
      "50%     9.461456   9.461456\n",
      "75%    14.283040  14.283040\n",
      "max    19.855598  19.855598\n"
     ]
    }
   ],
   "source": [
    "# Obtendo estatísticas descritivas dos dados\n",
    "stats = data_table.describe()\n",
    "\n",
    "# Imprimindo as estatísticas descritivas\n",
    "print(stats)"
   ]
  },
  {
   "cell_type": "markdown",
   "metadata": {},
   "source": [
    "### Conclusões\n",
    "A transformação que utiliza a soma de p1 e p2 resulta em uma distribuição de valores diferentes da transformação que utiliza a média. Os dados transformados pela soma têm uma escala maior e uma variação mais ampla em relação aos dados originais. Essas diferenças podem ter um impacto significativo na interpretação e análise dos dados."
   ]
  }
 ],
 "metadata": {
  "kernelspec": {
   "display_name": "Python 3 (ipykernel)",
   "language": "python",
   "name": "python3"
  },
  "language_info": {
   "codemirror_mode": {
    "name": "ipython",
    "version": 3
   },
   "file_extension": ".py",
   "mimetype": "text/x-python",
   "name": "python",
   "nbconvert_exporter": "python",
   "pygments_lexer": "ipython3",
   "version": "3.10.9"
  },
  "toc": {
   "base_numbering": 1,
   "nav_menu": {},
   "number_sections": false,
   "sideBar": true,
   "skip_h1_title": false,
   "title_cell": "Índice",
   "title_sidebar": "Conteúdo",
   "toc_cell": false,
   "toc_position": {
    "height": "calc(100% - 180px)",
    "left": "10px",
    "top": "150px",
    "width": "257.6px"
   },
   "toc_section_display": true,
   "toc_window_display": false
  },
  "varInspector": {
   "cols": {
    "lenName": 16,
    "lenType": 16,
    "lenVar": 40
   },
   "kernels_config": {
    "python": {
     "delete_cmd_postfix": "",
     "delete_cmd_prefix": "del ",
     "library": "var_list.py",
     "varRefreshCmd": "print(var_dic_list())"
    },
    "r": {
     "delete_cmd_postfix": ") ",
     "delete_cmd_prefix": "rm(",
     "library": "var_list.r",
     "varRefreshCmd": "cat(var_dic_list()) "
    }
   },
   "types_to_exclude": [
    "module",
    "function",
    "builtin_function_or_method",
    "instance",
    "_Feature"
   ],
   "window_display": false
  }
 },
 "nbformat": 4,
 "nbformat_minor": 4
}
