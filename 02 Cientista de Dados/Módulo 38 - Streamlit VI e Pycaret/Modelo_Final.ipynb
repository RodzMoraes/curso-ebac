{
 "cells": [
  {
   "cell_type": "markdown",
   "metadata": {
    "colab_type": "text",
    "id": "Ui_rALqYEQmv"
   },
   "source": [
    "# Carregando os dados"
   ]
  },
  {
   "cell_type": "code",
   "execution_count": 1,
   "metadata": {
    "colab": {
     "base_uri": "https://localhost:8080/",
     "height": 211
    },
    "colab_type": "code",
    "id": "lUvE187JEQm3",
    "outputId": "8741262c-0e33-4ec0-b54d-3c8fb41e52c0"
   },
   "outputs": [],
   "source": [
    "import pandas as pd\n",
    "df = pd.read_feather('credit_scoring.ftr')"
   ]
  },
  {
   "cell_type": "code",
   "execution_count": 2,
   "metadata": {
    "colab": {
     "base_uri": "https://localhost:8080/",
     "height": 33
    },
    "colab_type": "code",
    "id": "kMqDGBkJEQnN",
    "outputId": "b2015b7a-4c1a-4377-d9cf-3e9ac5ce3ea2"
   },
   "outputs": [
    {
     "data": {
      "text/plain": [
       "(750000, 15)"
      ]
     },
     "execution_count": 2,
     "metadata": {},
     "output_type": "execute_result"
    }
   ],
   "source": [
    "df.shape"
   ]
  },
  {
   "cell_type": "code",
   "execution_count": 3,
   "metadata": {},
   "outputs": [
    {
     "data": {
      "text/plain": [
       "Index(['data_ref', 'index', 'sexo', 'posse_de_veiculo', 'posse_de_imovel',\n",
       "       'qtd_filhos', 'tipo_renda', 'educacao', 'estado_civil',\n",
       "       'tipo_residencia', 'idade', 'tempo_emprego', 'qt_pessoas_residencia',\n",
       "       'renda', 'mau'],\n",
       "      dtype='object')"
      ]
     },
     "execution_count": 3,
     "metadata": {},
     "output_type": "execute_result"
    }
   ],
   "source": [
    "df.columns"
   ]
  },
  {
   "cell_type": "code",
   "execution_count": 4,
   "metadata": {},
   "outputs": [],
   "source": [
    "dataset = df.sample(40000)"
   ]
  },
  {
   "cell_type": "code",
   "execution_count": 5,
   "metadata": {},
   "outputs": [],
   "source": [
    "dataset.drop(['data_ref','index'], axis=1, inplace=True)"
   ]
  },
  {
   "cell_type": "code",
   "execution_count": 6,
   "metadata": {},
   "outputs": [
    {
     "name": "stdout",
     "output_type": "stream",
     "text": [
      "Conjunto de dados para modelagem (treino e teste): (38000, 13)\n",
      "Conjunto de dados não usados no treino/teste, apenas como validação: (2000, 13)\n"
     ]
    }
   ],
   "source": [
    "data = dataset.sample(frac=0.95, random_state=786)\n",
    "data_unseen = dataset.drop(data.index)\n",
    "data.reset_index(inplace=True, drop=True)\n",
    "data_unseen.reset_index(inplace=True, drop=True)\n",
    "print('Conjunto de dados para modelagem (treino e teste): ' + str(data.shape))\n",
    "print('Conjunto de dados não usados no treino/teste, apenas como validação: ' + str(data_unseen.shape))"
   ]
  },
  {
   "cell_type": "code",
   "execution_count": 7,
   "metadata": {
    "colab": {},
    "colab_type": "code",
    "id": "BOmRR0deEQoA"
   },
   "outputs": [],
   "source": [
    "from pycaret.classification import *"
   ]
  },
  {
   "cell_type": "markdown",
   "metadata": {},
   "source": [
    "# Alterando os dados de treino"
   ]
  },
  {
   "cell_type": "code",
   "execution_count": 8,
   "metadata": {},
   "outputs": [
    {
     "data": {
      "text/plain": [
       "sexo                      object\n",
       "posse_de_veiculo          object\n",
       "posse_de_imovel           object\n",
       "qtd_filhos                 int64\n",
       "tipo_renda                object\n",
       "educacao                  object\n",
       "estado_civil              object\n",
       "tipo_residencia           object\n",
       "idade                      int64\n",
       "tempo_emprego            float64\n",
       "qt_pessoas_residencia    float64\n",
       "renda                    float64\n",
       "mau                         bool\n",
       "dtype: object"
      ]
     },
     "execution_count": 8,
     "metadata": {},
     "output_type": "execute_result"
    }
   ],
   "source": [
    "data.dtypes"
   ]
  },
  {
   "cell_type": "code",
   "execution_count": 9,
   "metadata": {},
   "outputs": [],
   "source": [
    "# Forçando a variável qtd_filhos como numérica\n",
    "data.qtd_filhos = data.qtd_filhos.astype(float)"
   ]
  },
  {
   "cell_type": "code",
   "execution_count": 10,
   "metadata": {},
   "outputs": [
    {
     "data": {
      "text/html": [
       "<div>\n",
       "<style scoped>\n",
       "    .dataframe tbody tr th:only-of-type {\n",
       "        vertical-align: middle;\n",
       "    }\n",
       "\n",
       "    .dataframe tbody tr th {\n",
       "        vertical-align: top;\n",
       "    }\n",
       "\n",
       "    .dataframe thead th {\n",
       "        text-align: right;\n",
       "    }\n",
       "</style>\n",
       "<table border=\"1\" class=\"dataframe\">\n",
       "  <thead>\n",
       "    <tr style=\"text-align: right;\">\n",
       "      <th></th>\n",
       "      <th>qtd_filhos</th>\n",
       "      <th>idade</th>\n",
       "      <th>tempo_emprego</th>\n",
       "      <th>qt_pessoas_residencia</th>\n",
       "      <th>renda</th>\n",
       "      <th>mau</th>\n",
       "    </tr>\n",
       "  </thead>\n",
       "  <tbody>\n",
       "    <tr>\n",
       "      <th>qtd_filhos</th>\n",
       "      <td>1.000000</td>\n",
       "      <td>-0.375080</td>\n",
       "      <td>-0.079303</td>\n",
       "      <td>0.890793</td>\n",
       "      <td>-0.045858</td>\n",
       "      <td>0.002925</td>\n",
       "    </tr>\n",
       "    <tr>\n",
       "      <th>idade</th>\n",
       "      <td>-0.375080</td>\n",
       "      <td>1.000000</td>\n",
       "      <td>0.330460</td>\n",
       "      <td>-0.344813</td>\n",
       "      <td>0.103271</td>\n",
       "      <td>-0.027037</td>\n",
       "    </tr>\n",
       "    <tr>\n",
       "      <th>tempo_emprego</th>\n",
       "      <td>-0.079303</td>\n",
       "      <td>0.330460</td>\n",
       "      <td>1.000000</td>\n",
       "      <td>-0.068162</td>\n",
       "      <td>0.497243</td>\n",
       "      <td>-0.128759</td>\n",
       "    </tr>\n",
       "    <tr>\n",
       "      <th>qt_pessoas_residencia</th>\n",
       "      <td>0.890793</td>\n",
       "      <td>-0.344813</td>\n",
       "      <td>-0.068162</td>\n",
       "      <td>1.000000</td>\n",
       "      <td>-0.047124</td>\n",
       "      <td>0.000363</td>\n",
       "    </tr>\n",
       "    <tr>\n",
       "      <th>renda</th>\n",
       "      <td>-0.045858</td>\n",
       "      <td>0.103271</td>\n",
       "      <td>0.497243</td>\n",
       "      <td>-0.047124</td>\n",
       "      <td>1.000000</td>\n",
       "      <td>-0.065467</td>\n",
       "    </tr>\n",
       "    <tr>\n",
       "      <th>mau</th>\n",
       "      <td>0.002925</td>\n",
       "      <td>-0.027037</td>\n",
       "      <td>-0.128759</td>\n",
       "      <td>0.000363</td>\n",
       "      <td>-0.065467</td>\n",
       "      <td>1.000000</td>\n",
       "    </tr>\n",
       "  </tbody>\n",
       "</table>\n",
       "</div>"
      ],
      "text/plain": [
       "                       qtd_filhos     idade  tempo_emprego  \\\n",
       "qtd_filhos               1.000000 -0.375080      -0.079303   \n",
       "idade                   -0.375080  1.000000       0.330460   \n",
       "tempo_emprego           -0.079303  0.330460       1.000000   \n",
       "qt_pessoas_residencia    0.890793 -0.344813      -0.068162   \n",
       "renda                   -0.045858  0.103271       0.497243   \n",
       "mau                      0.002925 -0.027037      -0.128759   \n",
       "\n",
       "                       qt_pessoas_residencia     renda       mau  \n",
       "qtd_filhos                          0.890793 -0.045858  0.002925  \n",
       "idade                              -0.344813  0.103271 -0.027037  \n",
       "tempo_emprego                      -0.068162  0.497243 -0.128759  \n",
       "qt_pessoas_residencia               1.000000 -0.047124  0.000363  \n",
       "renda                              -0.047124  1.000000 -0.065467  \n",
       "mau                                 0.000363 -0.065467  1.000000  "
      ]
     },
     "execution_count": 10,
     "metadata": {},
     "output_type": "execute_result"
    }
   ],
   "source": [
    "data.corr()"
   ]
  },
  {
   "cell_type": "code",
   "execution_count": 11,
   "metadata": {},
   "outputs": [
    {
     "data": {
      "text/plain": [
       "False    0.921658\n",
       "True     0.078342\n",
       "Name: mau, dtype: float64"
      ]
     },
     "execution_count": 11,
     "metadata": {},
     "output_type": "execute_result"
    }
   ],
   "source": [
    "data.mau.value_counts(normalize=True)"
   ]
  },
  {
   "cell_type": "code",
   "execution_count": 12,
   "metadata": {},
   "outputs": [
    {
     "data": {
      "text/html": [
       "<style type=\"text/css\">\n",
       "#T_4a3d9_row11_col1, #T_4a3d9_row17_col1, #T_4a3d9_row19_col1, #T_4a3d9_row21_col1 {\n",
       "  background-color: lightgreen;\n",
       "}\n",
       "</style>\n",
       "<table id=\"T_4a3d9\">\n",
       "  <thead>\n",
       "    <tr>\n",
       "      <th class=\"blank level0\" >&nbsp;</th>\n",
       "      <th id=\"T_4a3d9_level0_col0\" class=\"col_heading level0 col0\" >Description</th>\n",
       "      <th id=\"T_4a3d9_level0_col1\" class=\"col_heading level0 col1\" >Value</th>\n",
       "    </tr>\n",
       "  </thead>\n",
       "  <tbody>\n",
       "    <tr>\n",
       "      <th id=\"T_4a3d9_level0_row0\" class=\"row_heading level0 row0\" >0</th>\n",
       "      <td id=\"T_4a3d9_row0_col0\" class=\"data row0 col0\" >Session id</td>\n",
       "      <td id=\"T_4a3d9_row0_col1\" class=\"data row0 col1\" >3084</td>\n",
       "    </tr>\n",
       "    <tr>\n",
       "      <th id=\"T_4a3d9_level0_row1\" class=\"row_heading level0 row1\" >1</th>\n",
       "      <td id=\"T_4a3d9_row1_col0\" class=\"data row1 col0\" >Target</td>\n",
       "      <td id=\"T_4a3d9_row1_col1\" class=\"data row1 col1\" >mau</td>\n",
       "    </tr>\n",
       "    <tr>\n",
       "      <th id=\"T_4a3d9_level0_row2\" class=\"row_heading level0 row2\" >2</th>\n",
       "      <td id=\"T_4a3d9_row2_col0\" class=\"data row2 col0\" >Target type</td>\n",
       "      <td id=\"T_4a3d9_row2_col1\" class=\"data row2 col1\" >Binary</td>\n",
       "    </tr>\n",
       "    <tr>\n",
       "      <th id=\"T_4a3d9_level0_row3\" class=\"row_heading level0 row3\" >3</th>\n",
       "      <td id=\"T_4a3d9_row3_col0\" class=\"data row3 col0\" >Original data shape</td>\n",
       "      <td id=\"T_4a3d9_row3_col1\" class=\"data row3 col1\" >(38000, 13)</td>\n",
       "    </tr>\n",
       "    <tr>\n",
       "      <th id=\"T_4a3d9_level0_row4\" class=\"row_heading level0 row4\" >4</th>\n",
       "      <td id=\"T_4a3d9_row4_col0\" class=\"data row4 col0\" >Transformed data shape</td>\n",
       "      <td id=\"T_4a3d9_row4_col1\" class=\"data row4 col1\" >(60432, 30)</td>\n",
       "    </tr>\n",
       "    <tr>\n",
       "      <th id=\"T_4a3d9_level0_row5\" class=\"row_heading level0 row5\" >5</th>\n",
       "      <td id=\"T_4a3d9_row5_col0\" class=\"data row5 col0\" >Transformed train set shape</td>\n",
       "      <td id=\"T_4a3d9_row5_col1\" class=\"data row5 col1\" >(49032, 30)</td>\n",
       "    </tr>\n",
       "    <tr>\n",
       "      <th id=\"T_4a3d9_level0_row6\" class=\"row_heading level0 row6\" >6</th>\n",
       "      <td id=\"T_4a3d9_row6_col0\" class=\"data row6 col0\" >Transformed test set shape</td>\n",
       "      <td id=\"T_4a3d9_row6_col1\" class=\"data row6 col1\" >(11400, 30)</td>\n",
       "    </tr>\n",
       "    <tr>\n",
       "      <th id=\"T_4a3d9_level0_row7\" class=\"row_heading level0 row7\" >7</th>\n",
       "      <td id=\"T_4a3d9_row7_col0\" class=\"data row7 col0\" >Ordinal features</td>\n",
       "      <td id=\"T_4a3d9_row7_col1\" class=\"data row7 col1\" >3</td>\n",
       "    </tr>\n",
       "    <tr>\n",
       "      <th id=\"T_4a3d9_level0_row8\" class=\"row_heading level0 row8\" >8</th>\n",
       "      <td id=\"T_4a3d9_row8_col0\" class=\"data row8 col0\" >Numeric features</td>\n",
       "      <td id=\"T_4a3d9_row8_col1\" class=\"data row8 col1\" >5</td>\n",
       "    </tr>\n",
       "    <tr>\n",
       "      <th id=\"T_4a3d9_level0_row9\" class=\"row_heading level0 row9\" >9</th>\n",
       "      <td id=\"T_4a3d9_row9_col0\" class=\"data row9 col0\" >Categorical features</td>\n",
       "      <td id=\"T_4a3d9_row9_col1\" class=\"data row9 col1\" >7</td>\n",
       "    </tr>\n",
       "    <tr>\n",
       "      <th id=\"T_4a3d9_level0_row10\" class=\"row_heading level0 row10\" >10</th>\n",
       "      <td id=\"T_4a3d9_row10_col0\" class=\"data row10 col0\" >Rows with missing values</td>\n",
       "      <td id=\"T_4a3d9_row10_col1\" class=\"data row10 col1\" >16.9%</td>\n",
       "    </tr>\n",
       "    <tr>\n",
       "      <th id=\"T_4a3d9_level0_row11\" class=\"row_heading level0 row11\" >11</th>\n",
       "      <td id=\"T_4a3d9_row11_col0\" class=\"data row11 col0\" >Preprocess</td>\n",
       "      <td id=\"T_4a3d9_row11_col1\" class=\"data row11 col1\" >True</td>\n",
       "    </tr>\n",
       "    <tr>\n",
       "      <th id=\"T_4a3d9_level0_row12\" class=\"row_heading level0 row12\" >12</th>\n",
       "      <td id=\"T_4a3d9_row12_col0\" class=\"data row12 col0\" >Imputation type</td>\n",
       "      <td id=\"T_4a3d9_row12_col1\" class=\"data row12 col1\" >simple</td>\n",
       "    </tr>\n",
       "    <tr>\n",
       "      <th id=\"T_4a3d9_level0_row13\" class=\"row_heading level0 row13\" >13</th>\n",
       "      <td id=\"T_4a3d9_row13_col0\" class=\"data row13 col0\" >Numeric imputation</td>\n",
       "      <td id=\"T_4a3d9_row13_col1\" class=\"data row13 col1\" >mean</td>\n",
       "    </tr>\n",
       "    <tr>\n",
       "      <th id=\"T_4a3d9_level0_row14\" class=\"row_heading level0 row14\" >14</th>\n",
       "      <td id=\"T_4a3d9_row14_col0\" class=\"data row14 col0\" >Categorical imputation</td>\n",
       "      <td id=\"T_4a3d9_row14_col1\" class=\"data row14 col1\" >mode</td>\n",
       "    </tr>\n",
       "    <tr>\n",
       "      <th id=\"T_4a3d9_level0_row15\" class=\"row_heading level0 row15\" >15</th>\n",
       "      <td id=\"T_4a3d9_row15_col0\" class=\"data row15 col0\" >Maximum one-hot encoding</td>\n",
       "      <td id=\"T_4a3d9_row15_col1\" class=\"data row15 col1\" >25</td>\n",
       "    </tr>\n",
       "    <tr>\n",
       "      <th id=\"T_4a3d9_level0_row16\" class=\"row_heading level0 row16\" >16</th>\n",
       "      <td id=\"T_4a3d9_row16_col0\" class=\"data row16 col0\" >Encoding method</td>\n",
       "      <td id=\"T_4a3d9_row16_col1\" class=\"data row16 col1\" >None</td>\n",
       "    </tr>\n",
       "    <tr>\n",
       "      <th id=\"T_4a3d9_level0_row17\" class=\"row_heading level0 row17\" >17</th>\n",
       "      <td id=\"T_4a3d9_row17_col0\" class=\"data row17 col0\" >Fix imbalance</td>\n",
       "      <td id=\"T_4a3d9_row17_col1\" class=\"data row17 col1\" >True</td>\n",
       "    </tr>\n",
       "    <tr>\n",
       "      <th id=\"T_4a3d9_level0_row18\" class=\"row_heading level0 row18\" >18</th>\n",
       "      <td id=\"T_4a3d9_row18_col0\" class=\"data row18 col0\" >Fix imbalance method</td>\n",
       "      <td id=\"T_4a3d9_row18_col1\" class=\"data row18 col1\" >SMOTE</td>\n",
       "    </tr>\n",
       "    <tr>\n",
       "      <th id=\"T_4a3d9_level0_row19\" class=\"row_heading level0 row19\" >19</th>\n",
       "      <td id=\"T_4a3d9_row19_col0\" class=\"data row19 col0\" >Transformation</td>\n",
       "      <td id=\"T_4a3d9_row19_col1\" class=\"data row19 col1\" >True</td>\n",
       "    </tr>\n",
       "    <tr>\n",
       "      <th id=\"T_4a3d9_level0_row20\" class=\"row_heading level0 row20\" >20</th>\n",
       "      <td id=\"T_4a3d9_row20_col0\" class=\"data row20 col0\" >Transformation method</td>\n",
       "      <td id=\"T_4a3d9_row20_col1\" class=\"data row20 col1\" >quantile</td>\n",
       "    </tr>\n",
       "    <tr>\n",
       "      <th id=\"T_4a3d9_level0_row21\" class=\"row_heading level0 row21\" >21</th>\n",
       "      <td id=\"T_4a3d9_row21_col0\" class=\"data row21 col0\" >Normalize</td>\n",
       "      <td id=\"T_4a3d9_row21_col1\" class=\"data row21 col1\" >True</td>\n",
       "    </tr>\n",
       "    <tr>\n",
       "      <th id=\"T_4a3d9_level0_row22\" class=\"row_heading level0 row22\" >22</th>\n",
       "      <td id=\"T_4a3d9_row22_col0\" class=\"data row22 col0\" >Normalize method</td>\n",
       "      <td id=\"T_4a3d9_row22_col1\" class=\"data row22 col1\" >zscore</td>\n",
       "    </tr>\n",
       "    <tr>\n",
       "      <th id=\"T_4a3d9_level0_row23\" class=\"row_heading level0 row23\" >23</th>\n",
       "      <td id=\"T_4a3d9_row23_col0\" class=\"data row23 col0\" >Fold Generator</td>\n",
       "      <td id=\"T_4a3d9_row23_col1\" class=\"data row23 col1\" >StratifiedKFold</td>\n",
       "    </tr>\n",
       "    <tr>\n",
       "      <th id=\"T_4a3d9_level0_row24\" class=\"row_heading level0 row24\" >24</th>\n",
       "      <td id=\"T_4a3d9_row24_col0\" class=\"data row24 col0\" >Fold Number</td>\n",
       "      <td id=\"T_4a3d9_row24_col1\" class=\"data row24 col1\" >10</td>\n",
       "    </tr>\n",
       "    <tr>\n",
       "      <th id=\"T_4a3d9_level0_row25\" class=\"row_heading level0 row25\" >25</th>\n",
       "      <td id=\"T_4a3d9_row25_col0\" class=\"data row25 col0\" >CPU Jobs</td>\n",
       "      <td id=\"T_4a3d9_row25_col1\" class=\"data row25 col1\" >-1</td>\n",
       "    </tr>\n",
       "    <tr>\n",
       "      <th id=\"T_4a3d9_level0_row26\" class=\"row_heading level0 row26\" >26</th>\n",
       "      <td id=\"T_4a3d9_row26_col0\" class=\"data row26 col0\" >Use GPU</td>\n",
       "      <td id=\"T_4a3d9_row26_col1\" class=\"data row26 col1\" >False</td>\n",
       "    </tr>\n",
       "    <tr>\n",
       "      <th id=\"T_4a3d9_level0_row27\" class=\"row_heading level0 row27\" >27</th>\n",
       "      <td id=\"T_4a3d9_row27_col0\" class=\"data row27 col0\" >Log Experiment</td>\n",
       "      <td id=\"T_4a3d9_row27_col1\" class=\"data row27 col1\" >False</td>\n",
       "    </tr>\n",
       "    <tr>\n",
       "      <th id=\"T_4a3d9_level0_row28\" class=\"row_heading level0 row28\" >28</th>\n",
       "      <td id=\"T_4a3d9_row28_col0\" class=\"data row28 col0\" >Experiment Name</td>\n",
       "      <td id=\"T_4a3d9_row28_col1\" class=\"data row28 col1\" >credit_1</td>\n",
       "    </tr>\n",
       "    <tr>\n",
       "      <th id=\"T_4a3d9_level0_row29\" class=\"row_heading level0 row29\" >29</th>\n",
       "      <td id=\"T_4a3d9_row29_col0\" class=\"data row29 col0\" >USI</td>\n",
       "      <td id=\"T_4a3d9_row29_col1\" class=\"data row29 col1\" >5001</td>\n",
       "    </tr>\n",
       "  </tbody>\n",
       "</table>\n"
      ],
      "text/plain": [
       "<pandas.io.formats.style.Styler at 0x7fdda8041f90>"
      ]
     },
     "metadata": {},
     "output_type": "display_data"
    }
   ],
   "source": [
    "exp_aula4 = setup(data = data, target = 'mau', experiment_name='credit_1',\n",
    "                  normalize=True, normalize_method='zscore', \n",
    "                  transformation=True, transformation_method = 'quantile',\n",
    "                  fix_imbalance=True)\n",
    "\n"
   ]
  },
  {
   "cell_type": "code",
   "execution_count": 13,
   "metadata": {
    "scrolled": false
   },
   "outputs": [
    {
     "data": {
      "text/html": [],
      "text/plain": [
       "<IPython.core.display.HTML object>"
      ]
     },
     "metadata": {},
     "output_type": "display_data"
    },
    {
     "data": {
      "text/html": [
       "<style type=\"text/css\">\n",
       "#T_d7baf th {\n",
       "  text-align: left;\n",
       "}\n",
       "#T_d7baf_row0_col0, #T_d7baf_row0_col1, #T_d7baf_row0_col3, #T_d7baf_row0_col4, #T_d7baf_row0_col5, #T_d7baf_row0_col6, #T_d7baf_row0_col7, #T_d7baf_row1_col0, #T_d7baf_row1_col1, #T_d7baf_row1_col2, #T_d7baf_row1_col3, #T_d7baf_row1_col5, #T_d7baf_row1_col6, #T_d7baf_row1_col7, #T_d7baf_row2_col0, #T_d7baf_row2_col1, #T_d7baf_row2_col2, #T_d7baf_row2_col3, #T_d7baf_row2_col4, #T_d7baf_row2_col5, #T_d7baf_row2_col6, #T_d7baf_row2_col7, #T_d7baf_row3_col0, #T_d7baf_row3_col1, #T_d7baf_row3_col2, #T_d7baf_row3_col3, #T_d7baf_row3_col4, #T_d7baf_row4_col0, #T_d7baf_row4_col1, #T_d7baf_row4_col2, #T_d7baf_row4_col3, #T_d7baf_row4_col4, #T_d7baf_row4_col5, #T_d7baf_row4_col6, #T_d7baf_row4_col7, #T_d7baf_row5_col0, #T_d7baf_row5_col1, #T_d7baf_row5_col2, #T_d7baf_row5_col3, #T_d7baf_row5_col4, #T_d7baf_row5_col5, #T_d7baf_row5_col6, #T_d7baf_row5_col7, #T_d7baf_row6_col0, #T_d7baf_row6_col1, #T_d7baf_row6_col2, #T_d7baf_row6_col3, #T_d7baf_row6_col4, #T_d7baf_row6_col5, #T_d7baf_row6_col6, #T_d7baf_row6_col7, #T_d7baf_row7_col0, #T_d7baf_row7_col1, #T_d7baf_row7_col2, #T_d7baf_row7_col4, #T_d7baf_row7_col5, #T_d7baf_row7_col6, #T_d7baf_row7_col7, #T_d7baf_row8_col0, #T_d7baf_row8_col1, #T_d7baf_row8_col2, #T_d7baf_row8_col3, #T_d7baf_row8_col4, #T_d7baf_row8_col5, #T_d7baf_row8_col6, #T_d7baf_row8_col7, #T_d7baf_row9_col0, #T_d7baf_row9_col1, #T_d7baf_row9_col2, #T_d7baf_row9_col3, #T_d7baf_row9_col4, #T_d7baf_row9_col5, #T_d7baf_row9_col6, #T_d7baf_row9_col7, #T_d7baf_row10_col0, #T_d7baf_row10_col1, #T_d7baf_row10_col2, #T_d7baf_row10_col3, #T_d7baf_row10_col4, #T_d7baf_row10_col5, #T_d7baf_row10_col6, #T_d7baf_row10_col7, #T_d7baf_row11_col0, #T_d7baf_row11_col2, #T_d7baf_row11_col3, #T_d7baf_row11_col4, #T_d7baf_row11_col5, #T_d7baf_row11_col6, #T_d7baf_row11_col7, #T_d7baf_row12_col0, #T_d7baf_row12_col1, #T_d7baf_row12_col2, #T_d7baf_row12_col3, #T_d7baf_row12_col4, #T_d7baf_row12_col5, #T_d7baf_row12_col6, #T_d7baf_row12_col7, #T_d7baf_row13_col0, #T_d7baf_row13_col1, #T_d7baf_row13_col2, #T_d7baf_row13_col3, #T_d7baf_row13_col4, #T_d7baf_row13_col5, #T_d7baf_row13_col6, #T_d7baf_row13_col7 {\n",
       "  text-align: left;\n",
       "}\n",
       "#T_d7baf_row0_col2, #T_d7baf_row1_col4, #T_d7baf_row3_col5, #T_d7baf_row3_col6, #T_d7baf_row3_col7, #T_d7baf_row7_col3, #T_d7baf_row11_col1 {\n",
       "  text-align: left;\n",
       "  background-color: yellow;\n",
       "}\n",
       "#T_d7baf_row0_col8, #T_d7baf_row1_col8, #T_d7baf_row2_col8, #T_d7baf_row3_col8, #T_d7baf_row4_col8, #T_d7baf_row5_col8, #T_d7baf_row6_col8, #T_d7baf_row7_col8, #T_d7baf_row8_col8, #T_d7baf_row10_col8, #T_d7baf_row11_col8, #T_d7baf_row12_col8, #T_d7baf_row13_col8 {\n",
       "  text-align: left;\n",
       "  background-color: lightgrey;\n",
       "}\n",
       "#T_d7baf_row9_col8 {\n",
       "  text-align: left;\n",
       "  background-color: yellow;\n",
       "  background-color: lightgrey;\n",
       "}\n",
       "</style>\n",
       "<table id=\"T_d7baf\">\n",
       "  <thead>\n",
       "    <tr>\n",
       "      <th class=\"blank level0\" >&nbsp;</th>\n",
       "      <th id=\"T_d7baf_level0_col0\" class=\"col_heading level0 col0\" >Model</th>\n",
       "      <th id=\"T_d7baf_level0_col1\" class=\"col_heading level0 col1\" >Accuracy</th>\n",
       "      <th id=\"T_d7baf_level0_col2\" class=\"col_heading level0 col2\" >AUC</th>\n",
       "      <th id=\"T_d7baf_level0_col3\" class=\"col_heading level0 col3\" >Recall</th>\n",
       "      <th id=\"T_d7baf_level0_col4\" class=\"col_heading level0 col4\" >Prec.</th>\n",
       "      <th id=\"T_d7baf_level0_col5\" class=\"col_heading level0 col5\" >F1</th>\n",
       "      <th id=\"T_d7baf_level0_col6\" class=\"col_heading level0 col6\" >Kappa</th>\n",
       "      <th id=\"T_d7baf_level0_col7\" class=\"col_heading level0 col7\" >MCC</th>\n",
       "      <th id=\"T_d7baf_level0_col8\" class=\"col_heading level0 col8\" >TT (Sec)</th>\n",
       "    </tr>\n",
       "  </thead>\n",
       "  <tbody>\n",
       "    <tr>\n",
       "      <th id=\"T_d7baf_level0_row0\" class=\"row_heading level0 row0\" >gbc</th>\n",
       "      <td id=\"T_d7baf_row0_col0\" class=\"data row0 col0\" >Gradient Boosting Classifier</td>\n",
       "      <td id=\"T_d7baf_row0_col1\" class=\"data row0 col1\" >0.9171</td>\n",
       "      <td id=\"T_d7baf_row0_col2\" class=\"data row0 col2\" >0.7642</td>\n",
       "      <td id=\"T_d7baf_row0_col3\" class=\"data row0 col3\" >0.0768</td>\n",
       "      <td id=\"T_d7baf_row0_col4\" class=\"data row0 col4\" >0.3700</td>\n",
       "      <td id=\"T_d7baf_row0_col5\" class=\"data row0 col5\" >0.1267</td>\n",
       "      <td id=\"T_d7baf_row0_col6\" class=\"data row0 col6\" >0.1022</td>\n",
       "      <td id=\"T_d7baf_row0_col7\" class=\"data row0 col7\" >0.1387</td>\n",
       "      <td id=\"T_d7baf_row0_col8\" class=\"data row0 col8\" >2.4325</td>\n",
       "    </tr>\n",
       "    <tr>\n",
       "      <th id=\"T_d7baf_level0_row1\" class=\"row_heading level0 row1\" >lightgbm</th>\n",
       "      <td id=\"T_d7baf_row1_col0\" class=\"data row1 col0\" >Light Gradient Boosting Machine</td>\n",
       "      <td id=\"T_d7baf_row1_col1\" class=\"data row1 col1\" >0.9195</td>\n",
       "      <td id=\"T_d7baf_row1_col2\" class=\"data row1 col2\" >0.7638</td>\n",
       "      <td id=\"T_d7baf_row1_col3\" class=\"data row1 col3\" >0.0576</td>\n",
       "      <td id=\"T_d7baf_row1_col4\" class=\"data row1 col4\" >0.4002</td>\n",
       "      <td id=\"T_d7baf_row1_col5\" class=\"data row1 col5\" >0.1003</td>\n",
       "      <td id=\"T_d7baf_row1_col6\" class=\"data row1 col6\" >0.0826</td>\n",
       "      <td id=\"T_d7baf_row1_col7\" class=\"data row1 col7\" >0.1276</td>\n",
       "      <td id=\"T_d7baf_row1_col8\" class=\"data row1 col8\" >0.8925</td>\n",
       "    </tr>\n",
       "    <tr>\n",
       "      <th id=\"T_d7baf_level0_row2\" class=\"row_heading level0 row2\" >ada</th>\n",
       "      <td id=\"T_d7baf_row2_col0\" class=\"data row2 col0\" >Ada Boost Classifier</td>\n",
       "      <td id=\"T_d7baf_row2_col1\" class=\"data row2 col1\" >0.9145</td>\n",
       "      <td id=\"T_d7baf_row2_col2\" class=\"data row2 col2\" >0.7562</td>\n",
       "      <td id=\"T_d7baf_row2_col3\" class=\"data row2 col3\" >0.0830</td>\n",
       "      <td id=\"T_d7baf_row2_col4\" class=\"data row2 col4\" >0.3117</td>\n",
       "      <td id=\"T_d7baf_row2_col5\" class=\"data row2 col5\" >0.1291</td>\n",
       "      <td id=\"T_d7baf_row2_col6\" class=\"data row2 col6\" >0.1012</td>\n",
       "      <td id=\"T_d7baf_row2_col7\" class=\"data row2 col7\" >0.1260</td>\n",
       "      <td id=\"T_d7baf_row2_col8\" class=\"data row2 col8\" >0.7700</td>\n",
       "    </tr>\n",
       "    <tr>\n",
       "      <th id=\"T_d7baf_level0_row3\" class=\"row_heading level0 row3\" >lr</th>\n",
       "      <td id=\"T_d7baf_row3_col0\" class=\"data row3 col0\" >Logistic Regression</td>\n",
       "      <td id=\"T_d7baf_row3_col1\" class=\"data row3 col1\" >0.8987</td>\n",
       "      <td id=\"T_d7baf_row3_col2\" class=\"data row3 col2\" >0.7495</td>\n",
       "      <td id=\"T_d7baf_row3_col3\" class=\"data row3 col3\" >0.2356</td>\n",
       "      <td id=\"T_d7baf_row3_col4\" class=\"data row3 col4\" >0.3085</td>\n",
       "      <td id=\"T_d7baf_row3_col5\" class=\"data row3 col5\" >0.2665</td>\n",
       "      <td id=\"T_d7baf_row3_col6\" class=\"data row3 col6\" >0.2133</td>\n",
       "      <td id=\"T_d7baf_row3_col7\" class=\"data row3 col7\" >0.2158</td>\n",
       "      <td id=\"T_d7baf_row3_col8\" class=\"data row3 col8\" >1.5550</td>\n",
       "    </tr>\n",
       "    <tr>\n",
       "      <th id=\"T_d7baf_level0_row4\" class=\"row_heading level0 row4\" >lda</th>\n",
       "      <td id=\"T_d7baf_row4_col0\" class=\"data row4 col0\" >Linear Discriminant Analysis</td>\n",
       "      <td id=\"T_d7baf_row4_col1\" class=\"data row4 col1\" >0.8891</td>\n",
       "      <td id=\"T_d7baf_row4_col2\" class=\"data row4 col2\" >0.7305</td>\n",
       "      <td id=\"T_d7baf_row4_col3\" class=\"data row4 col3\" >0.2433</td>\n",
       "      <td id=\"T_d7baf_row4_col4\" class=\"data row4 col4\" >0.2701</td>\n",
       "      <td id=\"T_d7baf_row4_col5\" class=\"data row4 col5\" >0.2556</td>\n",
       "      <td id=\"T_d7baf_row4_col6\" class=\"data row4 col6\" >0.1960</td>\n",
       "      <td id=\"T_d7baf_row4_col7\" class=\"data row4 col7\" >0.1964</td>\n",
       "      <td id=\"T_d7baf_row4_col8\" class=\"data row4 col8\" >0.3250</td>\n",
       "    </tr>\n",
       "    <tr>\n",
       "      <th id=\"T_d7baf_level0_row5\" class=\"row_heading level0 row5\" >rf</th>\n",
       "      <td id=\"T_d7baf_row5_col0\" class=\"data row5 col0\" >Random Forest Classifier</td>\n",
       "      <td id=\"T_d7baf_row5_col1\" class=\"data row5 col1\" >0.9020</td>\n",
       "      <td id=\"T_d7baf_row5_col2\" class=\"data row5 col2\" >0.6994</td>\n",
       "      <td id=\"T_d7baf_row5_col3\" class=\"data row5 col3\" >0.1032</td>\n",
       "      <td id=\"T_d7baf_row5_col4\" class=\"data row5 col4\" >0.2268</td>\n",
       "      <td id=\"T_d7baf_row5_col5\" class=\"data row5 col5\" >0.1417</td>\n",
       "      <td id=\"T_d7baf_row5_col6\" class=\"data row5 col6\" >0.0973</td>\n",
       "      <td id=\"T_d7baf_row5_col7\" class=\"data row5 col7\" >0.1060</td>\n",
       "      <td id=\"T_d7baf_row5_col8\" class=\"data row5 col8\" >1.1725</td>\n",
       "    </tr>\n",
       "    <tr>\n",
       "      <th id=\"T_d7baf_level0_row6\" class=\"row_heading level0 row6\" >et</th>\n",
       "      <td id=\"T_d7baf_row6_col0\" class=\"data row6 col0\" >Extra Trees Classifier</td>\n",
       "      <td id=\"T_d7baf_row6_col1\" class=\"data row6 col1\" >0.8887</td>\n",
       "      <td id=\"T_d7baf_row6_col2\" class=\"data row6 col2\" >0.6456</td>\n",
       "      <td id=\"T_d7baf_row6_col3\" class=\"data row6 col3\" >0.1156</td>\n",
       "      <td id=\"T_d7baf_row6_col4\" class=\"data row6 col4\" >0.1774</td>\n",
       "      <td id=\"T_d7baf_row6_col5\" class=\"data row6 col5\" >0.1398</td>\n",
       "      <td id=\"T_d7baf_row6_col6\" class=\"data row6 col6\" >0.0832</td>\n",
       "      <td id=\"T_d7baf_row6_col7\" class=\"data row6 col7\" >0.0855</td>\n",
       "      <td id=\"T_d7baf_row6_col8\" class=\"data row6 col8\" >1.0450</td>\n",
       "    </tr>\n",
       "    <tr>\n",
       "      <th id=\"T_d7baf_level0_row7\" class=\"row_heading level0 row7\" >nb</th>\n",
       "      <td id=\"T_d7baf_row7_col0\" class=\"data row7 col0\" >Naive Bayes</td>\n",
       "      <td id=\"T_d7baf_row7_col1\" class=\"data row7 col1\" >0.1084</td>\n",
       "      <td id=\"T_d7baf_row7_col2\" class=\"data row7 col2\" >0.6364</td>\n",
       "      <td id=\"T_d7baf_row7_col3\" class=\"data row7 col3\" >0.9875</td>\n",
       "      <td id=\"T_d7baf_row7_col4\" class=\"data row7 col4\" >0.0799</td>\n",
       "      <td id=\"T_d7baf_row7_col5\" class=\"data row7 col5\" >0.1479</td>\n",
       "      <td id=\"T_d7baf_row7_col6\" class=\"data row7 col6\" >0.0034</td>\n",
       "      <td id=\"T_d7baf_row7_col7\" class=\"data row7 col7\" >0.0327</td>\n",
       "      <td id=\"T_d7baf_row7_col8\" class=\"data row7 col8\" >0.6800</td>\n",
       "    </tr>\n",
       "    <tr>\n",
       "      <th id=\"T_d7baf_level0_row8\" class=\"row_heading level0 row8\" >knn</th>\n",
       "      <td id=\"T_d7baf_row8_col0\" class=\"data row8 col0\" >K Neighbors Classifier</td>\n",
       "      <td id=\"T_d7baf_row8_col1\" class=\"data row8 col1\" >0.9036</td>\n",
       "      <td id=\"T_d7baf_row8_col2\" class=\"data row8 col2\" >0.6109</td>\n",
       "      <td id=\"T_d7baf_row8_col3\" class=\"data row8 col3\" >0.0806</td>\n",
       "      <td id=\"T_d7baf_row8_col4\" class=\"data row8 col4\" >0.2047</td>\n",
       "      <td id=\"T_d7baf_row8_col5\" class=\"data row8 col5\" >0.1153</td>\n",
       "      <td id=\"T_d7baf_row8_col6\" class=\"data row8 col6\" >0.0747</td>\n",
       "      <td id=\"T_d7baf_row8_col7\" class=\"data row8 col7\" >0.0839</td>\n",
       "      <td id=\"T_d7baf_row8_col8\" class=\"data row8 col8\" >1.3775</td>\n",
       "    </tr>\n",
       "    <tr>\n",
       "      <th id=\"T_d7baf_level0_row9\" class=\"row_heading level0 row9\" >qda</th>\n",
       "      <td id=\"T_d7baf_row9_col0\" class=\"data row9 col0\" >Quadratic Discriminant Analysis</td>\n",
       "      <td id=\"T_d7baf_row9_col1\" class=\"data row9 col1\" >0.9213</td>\n",
       "      <td id=\"T_d7baf_row9_col2\" class=\"data row9 col2\" >0.5888</td>\n",
       "      <td id=\"T_d7baf_row9_col3\" class=\"data row9 col3\" >0.0005</td>\n",
       "      <td id=\"T_d7baf_row9_col4\" class=\"data row9 col4\" >0.0227</td>\n",
       "      <td id=\"T_d7baf_row9_col5\" class=\"data row9 col5\" >0.0009</td>\n",
       "      <td id=\"T_d7baf_row9_col6\" class=\"data row9 col6\" >0.0001</td>\n",
       "      <td id=\"T_d7baf_row9_col7\" class=\"data row9 col7\" >0.0005</td>\n",
       "      <td id=\"T_d7baf_row9_col8\" class=\"data row9 col8\" >0.2350</td>\n",
       "    </tr>\n",
       "    <tr>\n",
       "      <th id=\"T_d7baf_level0_row10\" class=\"row_heading level0 row10\" >dt</th>\n",
       "      <td id=\"T_d7baf_row10_col0\" class=\"data row10 col0\" >Decision Tree Classifier</td>\n",
       "      <td id=\"T_d7baf_row10_col1\" class=\"data row10 col1\" >0.8677</td>\n",
       "      <td id=\"T_d7baf_row10_col2\" class=\"data row10 col2\" >0.5511</td>\n",
       "      <td id=\"T_d7baf_row10_col3\" class=\"data row10 col3\" >0.1708</td>\n",
       "      <td id=\"T_d7baf_row10_col4\" class=\"data row10 col4\" >0.1657</td>\n",
       "      <td id=\"T_d7baf_row10_col5\" class=\"data row10 col5\" >0.1682</td>\n",
       "      <td id=\"T_d7baf_row10_col6\" class=\"data row10 col6\" >0.0964</td>\n",
       "      <td id=\"T_d7baf_row10_col7\" class=\"data row10 col7\" >0.0964</td>\n",
       "      <td id=\"T_d7baf_row10_col8\" class=\"data row10 col8\" >0.3050</td>\n",
       "    </tr>\n",
       "    <tr>\n",
       "      <th id=\"T_d7baf_level0_row11\" class=\"row_heading level0 row11\" >dummy</th>\n",
       "      <td id=\"T_d7baf_row11_col0\" class=\"data row11 col0\" >Dummy Classifier</td>\n",
       "      <td id=\"T_d7baf_row11_col1\" class=\"data row11 col1\" >0.9217</td>\n",
       "      <td id=\"T_d7baf_row11_col2\" class=\"data row11 col2\" >0.5000</td>\n",
       "      <td id=\"T_d7baf_row11_col3\" class=\"data row11 col3\" >0.0000</td>\n",
       "      <td id=\"T_d7baf_row11_col4\" class=\"data row11 col4\" >0.0000</td>\n",
       "      <td id=\"T_d7baf_row11_col5\" class=\"data row11 col5\" >0.0000</td>\n",
       "      <td id=\"T_d7baf_row11_col6\" class=\"data row11 col6\" >0.0000</td>\n",
       "      <td id=\"T_d7baf_row11_col7\" class=\"data row11 col7\" >0.0000</td>\n",
       "      <td id=\"T_d7baf_row11_col8\" class=\"data row11 col8\" >0.5600</td>\n",
       "    </tr>\n",
       "    <tr>\n",
       "      <th id=\"T_d7baf_level0_row12\" class=\"row_heading level0 row12\" >svm</th>\n",
       "      <td id=\"T_d7baf_row12_col0\" class=\"data row12 col0\" >SVM - Linear Kernel</td>\n",
       "      <td id=\"T_d7baf_row12_col1\" class=\"data row12 col1\" >0.9086</td>\n",
       "      <td id=\"T_d7baf_row12_col2\" class=\"data row12 col2\" >0.0000</td>\n",
       "      <td id=\"T_d7baf_row12_col3\" class=\"data row12 col3\" >0.1171</td>\n",
       "      <td id=\"T_d7baf_row12_col4\" class=\"data row12 col4\" >0.3129</td>\n",
       "      <td id=\"T_d7baf_row12_col5\" class=\"data row12 col5\" >0.1552</td>\n",
       "      <td id=\"T_d7baf_row12_col6\" class=\"data row12 col6\" >0.1201</td>\n",
       "      <td id=\"T_d7baf_row12_col7\" class=\"data row12 col7\" >0.1372</td>\n",
       "      <td id=\"T_d7baf_row12_col8\" class=\"data row12 col8\" >0.7050</td>\n",
       "    </tr>\n",
       "    <tr>\n",
       "      <th id=\"T_d7baf_level0_row13\" class=\"row_heading level0 row13\" >ridge</th>\n",
       "      <td id=\"T_d7baf_row13_col0\" class=\"data row13 col0\" >Ridge Classifier</td>\n",
       "      <td id=\"T_d7baf_row13_col1\" class=\"data row13 col1\" >0.8888</td>\n",
       "      <td id=\"T_d7baf_row13_col2\" class=\"data row13 col2\" >0.0000</td>\n",
       "      <td id=\"T_d7baf_row13_col3\" class=\"data row13 col3\" >0.2447</td>\n",
       "      <td id=\"T_d7baf_row13_col4\" class=\"data row13 col4\" >0.2696</td>\n",
       "      <td id=\"T_d7baf_row13_col5\" class=\"data row13 col5\" >0.2562</td>\n",
       "      <td id=\"T_d7baf_row13_col6\" class=\"data row13 col6\" >0.1963</td>\n",
       "      <td id=\"T_d7baf_row13_col7\" class=\"data row13 col7\" >0.1968</td>\n",
       "      <td id=\"T_d7baf_row13_col8\" class=\"data row13 col8\" >0.2525</td>\n",
       "    </tr>\n",
       "  </tbody>\n",
       "</table>\n"
      ],
      "text/plain": [
       "<pandas.io.formats.style.Styler at 0x7fddba45b5e0>"
      ]
     },
     "metadata": {},
     "output_type": "display_data"
    },
    {
     "data": {
      "application/vnd.jupyter.widget-view+json": {
       "model_id": "",
       "version_major": 2,
       "version_minor": 0
      },
      "text/plain": [
       "Processing:   0%|          | 0/61 [00:00<?, ?it/s]"
      ]
     },
     "metadata": {},
     "output_type": "display_data"
    }
   ],
   "source": [
    "best_model = compare_models(fold=4, sort='AUC')"
   ]
  },
  {
   "cell_type": "code",
   "execution_count": 14,
   "metadata": {},
   "outputs": [
    {
     "data": {
      "text/html": [],
      "text/plain": [
       "<IPython.core.display.HTML object>"
      ]
     },
     "metadata": {},
     "output_type": "display_data"
    },
    {
     "data": {
      "image/png": "[encoded data removed]",
      "text/plain": [
       "<Figure size 800x500 with 1 Axes>"
      ]
     },
     "metadata": {},
     "output_type": "display_data"
    }
   ],
   "source": [
    "plot_model(best_model, plot='feature')"
   ]
  },
  {
   "cell_type": "code",
   "execution_count": 15,
   "metadata": {},
   "outputs": [
    {
     "data": {
      "text/html": [],
      "text/plain": [
       "<IPython.core.display.HTML object>"
      ]
     },
     "metadata": {},
     "output_type": "display_data"
    },
    {
     "data": {
      "image/png": "[encoded data removed]",
      "text/plain": [
       "<Figure size 800x550 with 1 Axes>"
      ]
     },
     "metadata": {},
     "output_type": "display_data"
    }
   ],
   "source": [
    "plot_model(best_model, plot='auc')"
   ]
  },
  {
   "cell_type": "code",
   "execution_count": 16,
   "metadata": {},
   "outputs": [
    {
     "name": "stdout",
     "output_type": "stream",
     "text": [
      "Transformation Pipeline and Model Successfully Saved\n"
     ]
    },
    {
     "data": {
      "text/plain": [
       "(Pipeline(memory=FastMemory(location=/var/folders/lh/hj21t5rn6fg9r84_yy383zfm0000gn/T/joblib),\n",
       "          steps=[('numerical_imputer',\n",
       "                  TransformerWrapper(exclude=None,\n",
       "                                     include=['qtd_filhos', 'idade',\n",
       "                                              'tempo_emprego',\n",
       "                                              'qt_pessoas_residencia', 'renda'],\n",
       "                                     transformer=SimpleImputer(add_indicator=False,\n",
       "                                                               copy=True,\n",
       "                                                               fill_value=None,\n",
       "                                                               keep_empty_features=False,\n",
       "                                                               missing_values=nan,\n",
       "                                                               s...\n",
       "                                             criterion='friedman_mse', init=None,\n",
       "                                             learning_rate=0.1, loss='log_loss',\n",
       "                                             max_depth=3, max_features=None,\n",
       "                                             max_leaf_nodes=None,\n",
       "                                             min_impurity_decrease=0.0,\n",
       "                                             min_samples_leaf=1,\n",
       "                                             min_samples_split=2,\n",
       "                                             min_weight_fraction_leaf=0.0,\n",
       "                                             n_estimators=100,\n",
       "                                             n_iter_no_change=None,\n",
       "                                             random_state=3084, subsample=1.0,\n",
       "                                             tol=0.0001, validation_fraction=0.1,\n",
       "                                             verbose=0, warm_start=False))],\n",
       "          verbose=False),\n",
       " 'model_final.pkl')"
      ]
     },
     "execution_count": 16,
     "metadata": {},
     "output_type": "execute_result"
    }
   ],
   "source": [
    "save_model(best_model,'model_final')"
   ]
  },
  {
   "cell_type": "code",
   "execution_count": 17,
   "metadata": {},
   "outputs": [
    {
     "name": "stdout",
     "output_type": "stream",
     "text": [
      "Transformation Pipeline and Model Successfully Loaded\n"
     ]
    }
   ],
   "source": [
    "model_saved = load_model('model_final')"
   ]
  },
  {
   "cell_type": "code",
   "execution_count": 18,
   "metadata": {},
   "outputs": [
    {
     "data": {
      "text/plain": [
       "{'numerical_imputer': TransformerWrapper(exclude=None,\n",
       "                    include=['qtd_filhos', 'idade', 'tempo_emprego',\n",
       "                             'qt_pessoas_residencia', 'renda'],\n",
       "                    transformer=SimpleImputer(add_indicator=False, copy=True,\n",
       "                                              fill_value=None,\n",
       "                                              keep_empty_features=False,\n",
       "                                              missing_values=nan,\n",
       "                                              strategy='mean',\n",
       "                                              verbose='deprecated')),\n",
       " 'categorical_imputer': TransformerWrapper(exclude=None,\n",
       "                    include=['sexo', 'posse_de_veiculo', 'posse_de_imovel',\n",
       "                             'tipo_renda', 'educacao', 'estado_civil',\n",
       "                             'tipo_residencia'],\n",
       "                    transformer=SimpleImputer(add_indicator=False, copy=True,\n",
       "                                              fill_value=None,\n",
       "                                              keep_empty_features=False,\n",
       "                                              missing_values=nan,\n",
       "                                              strategy='most_frequent',\n",
       "                                              verbose='deprecated')),\n",
       " 'ordinal_encoding': TransformerWrapper(exclude=None,\n",
       "                    include=['sexo', 'posse_de_veiculo', 'posse_de_imovel'],\n",
       "                    transformer=OrdinalEncoder(cols=['sexo', 'posse_de_veiculo',\n",
       "                                                     'posse_de_imovel'],\n",
       "                                               drop_invariant=False,\n",
       "                                               handle_missing='return_nan',\n",
       "                                               handle_unknown='value',\n",
       "                                               mapping=[{'col': 'sexo',\n",
       "                                                         'data_type': dtype('O'),\n",
       "                                                         'mapping': F      0\n",
       " M      1\n",
       " NaN   -1\n",
       " dtype: int64},\n",
       "                                                        {'col': 'posse_de_veiculo',\n",
       "                                                         'data_type': dtype('O'),\n",
       "                                                         'mapping': N      0\n",
       " S      1\n",
       " NaN   -1\n",
       " dtype: int64},\n",
       "                                                        {'col': 'posse_de_imovel',\n",
       "                                                         'data_type': dtype('O'),\n",
       "                                                         'mapping': N      0\n",
       " S      1\n",
       " NaN   -1\n",
       " dtype: int64}],\n",
       "                                               return_df=True, verbose=0)),\n",
       " 'onehot_encoding': TransformerWrapper(exclude=None,\n",
       "                    include=['tipo_renda', 'educacao', 'estado_civil',\n",
       "                             'tipo_residencia'],\n",
       "                    transformer=OneHotEncoder(cols=['tipo_renda', 'educacao',\n",
       "                                                    'estado_civil',\n",
       "                                                    'tipo_residencia'],\n",
       "                                              drop_invariant=False,\n",
       "                                              handle_missing='return_nan',\n",
       "                                              handle_unknown='value',\n",
       "                                              return_df=True, use_cat_names=True,\n",
       "                                              verbose=0)),\n",
       " 'balance': TransformerWrapper(exclude=None, include=None,\n",
       "                    transformer=FixImbalancer(estimator=SMOTE(k_neighbors=5,\n",
       "                                                              n_jobs=None,\n",
       "                                                              random_state=None,\n",
       "                                                              sampling_strategy='auto'))),\n",
       " 'transformation': TransformerWrapper(exclude=None, include=None,\n",
       "                    transformer=QuantileTransformer(copy=True,\n",
       "                                                    ignore_implicit_zeros=False,\n",
       "                                                    n_quantiles=1000,\n",
       "                                                    output_distribution='normal',\n",
       "                                                    random_state=3084,\n",
       "                                                    subsample=10000)),\n",
       " 'normalize': TransformerWrapper(exclude=None, include=None,\n",
       "                    transformer=StandardScaler(copy=True, with_mean=True,\n",
       "                                               with_std=True)),\n",
       " 'trained_model': GradientBoostingClassifier(ccp_alpha=0.0, criterion='friedman_mse', init=None,\n",
       "                            learning_rate=0.1, loss='log_loss', max_depth=3,\n",
       "                            max_features=None, max_leaf_nodes=None,\n",
       "                            min_impurity_decrease=0.0, min_samples_leaf=1,\n",
       "                            min_samples_split=2, min_weight_fraction_leaf=0.0,\n",
       "                            n_estimators=100, n_iter_no_change=None,\n",
       "                            random_state=3084, subsample=1.0, tol=0.0001,\n",
       "                            validation_fraction=0.1, verbose=0,\n",
       "                            warm_start=False)}"
      ]
     },
     "execution_count": 18,
     "metadata": {},
     "output_type": "execute_result"
    }
   ],
   "source": [
    "model_saved.named_steps"
   ]
  },
  {
   "cell_type": "code",
   "execution_count": 19,
   "metadata": {
    "scrolled": false
   },
   "outputs": [
    {
     "data": {
      "text/html": [
       "<style type=\"text/css\">\n",
       "#T_bf0f3_row11_col1, #T_bf0f3_row17_col1, #T_bf0f3_row19_col1, #T_bf0f3_row21_col1 {\n",
       "  background-color: lightgreen;\n",
       "}\n",
       "</style>\n",
       "<table id=\"T_bf0f3\">\n",
       "  <thead>\n",
       "    <tr>\n",
       "      <th class=\"blank level0\" >&nbsp;</th>\n",
       "      <th id=\"T_bf0f3_level0_col0\" class=\"col_heading level0 col0\" >Description</th>\n",
       "      <th id=\"T_bf0f3_level0_col1\" class=\"col_heading level0 col1\" >Value</th>\n",
       "    </tr>\n",
       "  </thead>\n",
       "  <tbody>\n",
       "    <tr>\n",
       "      <th id=\"T_bf0f3_level0_row0\" class=\"row_heading level0 row0\" >0</th>\n",
       "      <td id=\"T_bf0f3_row0_col0\" class=\"data row0 col0\" >Session id</td>\n",
       "      <td id=\"T_bf0f3_row0_col1\" class=\"data row0 col1\" >7046</td>\n",
       "    </tr>\n",
       "    <tr>\n",
       "      <th id=\"T_bf0f3_level0_row1\" class=\"row_heading level0 row1\" >1</th>\n",
       "      <td id=\"T_bf0f3_row1_col0\" class=\"data row1 col0\" >Target</td>\n",
       "      <td id=\"T_bf0f3_row1_col1\" class=\"data row1 col1\" >mau</td>\n",
       "    </tr>\n",
       "    <tr>\n",
       "      <th id=\"T_bf0f3_level0_row2\" class=\"row_heading level0 row2\" >2</th>\n",
       "      <td id=\"T_bf0f3_row2_col0\" class=\"data row2 col0\" >Target type</td>\n",
       "      <td id=\"T_bf0f3_row2_col1\" class=\"data row2 col1\" >Binary</td>\n",
       "    </tr>\n",
       "    <tr>\n",
       "      <th id=\"T_bf0f3_level0_row3\" class=\"row_heading level0 row3\" >3</th>\n",
       "      <td id=\"T_bf0f3_row3_col0\" class=\"data row3 col0\" >Original data shape</td>\n",
       "      <td id=\"T_bf0f3_row3_col1\" class=\"data row3 col1\" >(38000, 13)</td>\n",
       "    </tr>\n",
       "    <tr>\n",
       "      <th id=\"T_bf0f3_level0_row4\" class=\"row_heading level0 row4\" >4</th>\n",
       "      <td id=\"T_bf0f3_row4_col0\" class=\"data row4 col0\" >Transformed data shape</td>\n",
       "      <td id=\"T_bf0f3_row4_col1\" class=\"data row4 col1\" >(38000, 30)</td>\n",
       "    </tr>\n",
       "    <tr>\n",
       "      <th id=\"T_bf0f3_level0_row5\" class=\"row_heading level0 row5\" >5</th>\n",
       "      <td id=\"T_bf0f3_row5_col0\" class=\"data row5 col0\" >Transformed train set shape</td>\n",
       "      <td id=\"T_bf0f3_row5_col1\" class=\"data row5 col1\" >(26600, 30)</td>\n",
       "    </tr>\n",
       "    <tr>\n",
       "      <th id=\"T_bf0f3_level0_row6\" class=\"row_heading level0 row6\" >6</th>\n",
       "      <td id=\"T_bf0f3_row6_col0\" class=\"data row6 col0\" >Transformed test set shape</td>\n",
       "      <td id=\"T_bf0f3_row6_col1\" class=\"data row6 col1\" >(11400, 30)</td>\n",
       "    </tr>\n",
       "    <tr>\n",
       "      <th id=\"T_bf0f3_level0_row7\" class=\"row_heading level0 row7\" >7</th>\n",
       "      <td id=\"T_bf0f3_row7_col0\" class=\"data row7 col0\" >Ordinal features</td>\n",
       "      <td id=\"T_bf0f3_row7_col1\" class=\"data row7 col1\" >3</td>\n",
       "    </tr>\n",
       "    <tr>\n",
       "      <th id=\"T_bf0f3_level0_row8\" class=\"row_heading level0 row8\" >8</th>\n",
       "      <td id=\"T_bf0f3_row8_col0\" class=\"data row8 col0\" >Numeric features</td>\n",
       "      <td id=\"T_bf0f3_row8_col1\" class=\"data row8 col1\" >5</td>\n",
       "    </tr>\n",
       "    <tr>\n",
       "      <th id=\"T_bf0f3_level0_row9\" class=\"row_heading level0 row9\" >9</th>\n",
       "      <td id=\"T_bf0f3_row9_col0\" class=\"data row9 col0\" >Categorical features</td>\n",
       "      <td id=\"T_bf0f3_row9_col1\" class=\"data row9 col1\" >7</td>\n",
       "    </tr>\n",
       "    <tr>\n",
       "      <th id=\"T_bf0f3_level0_row10\" class=\"row_heading level0 row10\" >10</th>\n",
       "      <td id=\"T_bf0f3_row10_col0\" class=\"data row10 col0\" >Rows with missing values</td>\n",
       "      <td id=\"T_bf0f3_row10_col1\" class=\"data row10 col1\" >16.9%</td>\n",
       "    </tr>\n",
       "    <tr>\n",
       "      <th id=\"T_bf0f3_level0_row11\" class=\"row_heading level0 row11\" >11</th>\n",
       "      <td id=\"T_bf0f3_row11_col0\" class=\"data row11 col0\" >Preprocess</td>\n",
       "      <td id=\"T_bf0f3_row11_col1\" class=\"data row11 col1\" >True</td>\n",
       "    </tr>\n",
       "    <tr>\n",
       "      <th id=\"T_bf0f3_level0_row12\" class=\"row_heading level0 row12\" >12</th>\n",
       "      <td id=\"T_bf0f3_row12_col0\" class=\"data row12 col0\" >Imputation type</td>\n",
       "      <td id=\"T_bf0f3_row12_col1\" class=\"data row12 col1\" >simple</td>\n",
       "    </tr>\n",
       "    <tr>\n",
       "      <th id=\"T_bf0f3_level0_row13\" class=\"row_heading level0 row13\" >13</th>\n",
       "      <td id=\"T_bf0f3_row13_col0\" class=\"data row13 col0\" >Numeric imputation</td>\n",
       "      <td id=\"T_bf0f3_row13_col1\" class=\"data row13 col1\" >mean</td>\n",
       "    </tr>\n",
       "    <tr>\n",
       "      <th id=\"T_bf0f3_level0_row14\" class=\"row_heading level0 row14\" >14</th>\n",
       "      <td id=\"T_bf0f3_row14_col0\" class=\"data row14 col0\" >Categorical imputation</td>\n",
       "      <td id=\"T_bf0f3_row14_col1\" class=\"data row14 col1\" >mode</td>\n",
       "    </tr>\n",
       "    <tr>\n",
       "      <th id=\"T_bf0f3_level0_row15\" class=\"row_heading level0 row15\" >15</th>\n",
       "      <td id=\"T_bf0f3_row15_col0\" class=\"data row15 col0\" >Maximum one-hot encoding</td>\n",
       "      <td id=\"T_bf0f3_row15_col1\" class=\"data row15 col1\" >25</td>\n",
       "    </tr>\n",
       "    <tr>\n",
       "      <th id=\"T_bf0f3_level0_row16\" class=\"row_heading level0 row16\" >16</th>\n",
       "      <td id=\"T_bf0f3_row16_col0\" class=\"data row16 col0\" >Encoding method</td>\n",
       "      <td id=\"T_bf0f3_row16_col1\" class=\"data row16 col1\" >None</td>\n",
       "    </tr>\n",
       "    <tr>\n",
       "      <th id=\"T_bf0f3_level0_row17\" class=\"row_heading level0 row17\" >17</th>\n",
       "      <td id=\"T_bf0f3_row17_col0\" class=\"data row17 col0\" >Remove multicollinearity</td>\n",
       "      <td id=\"T_bf0f3_row17_col1\" class=\"data row17 col1\" >True</td>\n",
       "    </tr>\n",
       "    <tr>\n",
       "      <th id=\"T_bf0f3_level0_row18\" class=\"row_heading level0 row18\" >18</th>\n",
       "      <td id=\"T_bf0f3_row18_col0\" class=\"data row18 col0\" >Multicollinearity threshold</td>\n",
       "      <td id=\"T_bf0f3_row18_col1\" class=\"data row18 col1\" >0.950000</td>\n",
       "    </tr>\n",
       "    <tr>\n",
       "      <th id=\"T_bf0f3_level0_row19\" class=\"row_heading level0 row19\" >19</th>\n",
       "      <td id=\"T_bf0f3_row19_col0\" class=\"data row19 col0\" >Transformation</td>\n",
       "      <td id=\"T_bf0f3_row19_col1\" class=\"data row19 col1\" >True</td>\n",
       "    </tr>\n",
       "    <tr>\n",
       "      <th id=\"T_bf0f3_level0_row20\" class=\"row_heading level0 row20\" >20</th>\n",
       "      <td id=\"T_bf0f3_row20_col0\" class=\"data row20 col0\" >Transformation method</td>\n",
       "      <td id=\"T_bf0f3_row20_col1\" class=\"data row20 col1\" >yeo-johnson</td>\n",
       "    </tr>\n",
       "    <tr>\n",
       "      <th id=\"T_bf0f3_level0_row21\" class=\"row_heading level0 row21\" >21</th>\n",
       "      <td id=\"T_bf0f3_row21_col0\" class=\"data row21 col0\" >Normalize</td>\n",
       "      <td id=\"T_bf0f3_row21_col1\" class=\"data row21 col1\" >True</td>\n",
       "    </tr>\n",
       "    <tr>\n",
       "      <th id=\"T_bf0f3_level0_row22\" class=\"row_heading level0 row22\" >22</th>\n",
       "      <td id=\"T_bf0f3_row22_col0\" class=\"data row22 col0\" >Normalize method</td>\n",
       "      <td id=\"T_bf0f3_row22_col1\" class=\"data row22 col1\" >zscore</td>\n",
       "    </tr>\n",
       "    <tr>\n",
       "      <th id=\"T_bf0f3_level0_row23\" class=\"row_heading level0 row23\" >23</th>\n",
       "      <td id=\"T_bf0f3_row23_col0\" class=\"data row23 col0\" >Fold Generator</td>\n",
       "      <td id=\"T_bf0f3_row23_col1\" class=\"data row23 col1\" >StratifiedKFold</td>\n",
       "    </tr>\n",
       "    <tr>\n",
       "      <th id=\"T_bf0f3_level0_row24\" class=\"row_heading level0 row24\" >24</th>\n",
       "      <td id=\"T_bf0f3_row24_col0\" class=\"data row24 col0\" >Fold Number</td>\n",
       "      <td id=\"T_bf0f3_row24_col1\" class=\"data row24 col1\" >10</td>\n",
       "    </tr>\n",
       "    <tr>\n",
       "      <th id=\"T_bf0f3_level0_row25\" class=\"row_heading level0 row25\" >25</th>\n",
       "      <td id=\"T_bf0f3_row25_col0\" class=\"data row25 col0\" >CPU Jobs</td>\n",
       "      <td id=\"T_bf0f3_row25_col1\" class=\"data row25 col1\" >-1</td>\n",
       "    </tr>\n",
       "    <tr>\n",
       "      <th id=\"T_bf0f3_level0_row26\" class=\"row_heading level0 row26\" >26</th>\n",
       "      <td id=\"T_bf0f3_row26_col0\" class=\"data row26 col0\" >Use GPU</td>\n",
       "      <td id=\"T_bf0f3_row26_col1\" class=\"data row26 col1\" >False</td>\n",
       "    </tr>\n",
       "    <tr>\n",
       "      <th id=\"T_bf0f3_level0_row27\" class=\"row_heading level0 row27\" >27</th>\n",
       "      <td id=\"T_bf0f3_row27_col0\" class=\"data row27 col0\" >Log Experiment</td>\n",
       "      <td id=\"T_bf0f3_row27_col1\" class=\"data row27 col1\" >False</td>\n",
       "    </tr>\n",
       "    <tr>\n",
       "      <th id=\"T_bf0f3_level0_row28\" class=\"row_heading level0 row28\" >28</th>\n",
       "      <td id=\"T_bf0f3_row28_col0\" class=\"data row28 col0\" >Experiment Name</td>\n",
       "      <td id=\"T_bf0f3_row28_col1\" class=\"data row28 col1\" >clf-default-name</td>\n",
       "    </tr>\n",
       "    <tr>\n",
       "      <th id=\"T_bf0f3_level0_row29\" class=\"row_heading level0 row29\" >29</th>\n",
       "      <td id=\"T_bf0f3_row29_col0\" class=\"data row29 col0\" >USI</td>\n",
       "      <td id=\"T_bf0f3_row29_col1\" class=\"data row29 col1\" >071a</td>\n",
       "    </tr>\n",
       "  </tbody>\n",
       "</table>\n"
      ],
      "text/plain": [
       "<pandas.io.formats.style.Styler at 0x7fdda8b17d30>"
      ]
     },
     "metadata": {},
     "output_type": "display_data"
    }
   ],
   "source": [
    "exp_aula4 = setup(data = data, target = 'mau',\n",
    "                  normalize = True, \n",
    "                  transformation = True, \n",
    "                  remove_multicollinearity = True, multicollinearity_threshold = 0.95,\n",
    "                  bin_numeric_features = ['qtd_filhos', 'idade', 'tempo_emprego', 'qt_pessoas_residencia'])"
   ]
  }
 ],
 "metadata": {
  "colab": {
   "collapsed_sections": [
    "Ui_rALqYEQmv",
    "y9s9wNcjEQn0",
    "it_nJo1IEQob",
    "P5m2pciOEQo4",
    "UWMSeyNhEQo-",
    "rWUojqBCEQpb",
    "nSg3OUjuEQpu",
    "XvpjzbGQEQqB",
    "BQlMCxrUEQqG",
    "CD-f0delEQqq",
    "KO3zIfs-EQrA",
    "w_P46O0jEQrT",
    "euqkQYJaEQrY",
    "bwyoTUDQEQrm",
    "_r9rwEw7EQrz",
    "FfWC3NEhEQr9",
    "RX5pYUJJEQsV",
    "r79BGjIfEQs1",
    "hUzc6tXNEQtr",
    "L__po3sUEQt7",
    "Z8OBesfkEQuU",
    "_HeOs8BhEQvF"
   ],
   "name": "Binary Classification Tutorial (CLF101) - Level Beginner (ACN_EDITS).ipynb",
   "provenance": []
  },
  "kernelspec": {
   "display_name": "Python 3 (ipykernel)",
   "language": "python",
   "name": "python3"
  },
  "language_info": {
   "codemirror_mode": {
    "name": "ipython",
    "version": 3
   },
   "file_extension": ".py",
   "mimetype": "text/x-python",
   "name": "python",
   "nbconvert_exporter": "python",
   "pygments_lexer": "ipython3",
   "version": "3.10.9"
  },
  "varInspector": {
   "cols": {
    "lenName": 16,
    "lenType": 16,
    "lenVar": 40
   },
   "kernels_config": {
    "python": {
     "delete_cmd_postfix": "",
     "delete_cmd_prefix": "del ",
     "library": "var_list.py",
     "varRefreshCmd": "print(var_dic_list())"
    },
    "r": {
     "delete_cmd_postfix": ") ",
     "delete_cmd_prefix": "rm(",
     "library": "var_list.r",
     "varRefreshCmd": "cat(var_dic_list()) "
    }
   },
   "types_to_exclude": [
    "module",
    "function",
    "builtin_function_or_method",
    "instance",
    "_Feature"
   ],
   "window_display": false
  },
  "widgets": {
   "application/vnd.jupyter.widget-state+json": {
    "02771b4dc3284414ab05df1906f4556b": {
     "model_module": "@jupyter-widgets/controls",
     "model_name": "IntProgressModel",
     "state": {
      "_dom_classes": [],
      "_model_module": "@jupyter-widgets/controls",
      "_model_module_version": "1.5.0",
      "_model_name": "IntProgressModel",
      "_view_count": null,
      "_view_module": "@jupyter-widgets/controls",
      "_view_module_version": "1.5.0",
      "_view_name": "ProgressView",
      "bar_style": "",
      "description": "Processing: ",
      "description_tooltip": null,
      "layout": "IPY_MODEL_22588a12c0db4067982e62ebbe7e6930",
      "max": 5,
      "min": 0,
      "orientation": "horizontal",
      "style": "IPY_MODEL_9e338844e75b4e17be8483529f5f38fd",
      "value": 5
     }
    },
    "0a06fb091bd94ce6b6ab892e2c6faadf": {
     "model_module": "@jupyter-widgets/base",
     "model_name": "LayoutModel",
     "state": {
      "_model_module": "@jupyter-widgets/base",
      "_model_module_version": "1.2.0",
      "_model_name": "LayoutModel",
      "_view_count": null,
      "_view_module": "@jupyter-widgets/base",
      "_view_module_version": "1.2.0",
      "_view_name": "LayoutView",
      "align_content": null,
      "align_items": null,
      "align_self": null,
      "border": null,
      "bottom": null,
      "display": null,
      "flex": null,
      "flex_flow": null,
      "grid_area": null,
      "grid_auto_columns": null,
      "grid_auto_flow": null,
      "grid_auto_rows": null,
      "grid_column": null,
      "grid_gap": null,
      "grid_row": null,
      "grid_template_areas": null,
      "grid_template_columns": null,
      "grid_template_rows": null,
      "height": null,
      "justify_content": null,
      "justify_items": null,
      "left": null,
      "margin": null,
      "max_height": null,
      "max_width": null,
      "min_height": null,
      "min_width": null,
      "object_fit": null,
      "object_position": null,
      "order": null,
      "overflow": null,
      "overflow_x": null,
      "overflow_y": null,
      "padding": null,
      "right": null,
      "top": null,
      "visibility": null,
      "width": null
     }
    },
    "12bf8b3c6ae8444a900474912589fdf1": {
     "model_module": "@jupyter-widgets/controls",
     "model_name": "ToggleButtonsModel",
     "state": {
      "_dom_classes": [],
      "_model_module": "@jupyter-widgets/controls",
      "_model_module_version": "1.5.0",
      "_model_name": "ToggleButtonsModel",
      "_options_labels": [
       "Hyperparameters",
       "AUC",
       "Confusion Matrix",
       "Threshold",
       "Precision Recall",
       "Error",
       "Class Report",
       "Feature Selection",
       "Learning Curve",
       "Manifold Learning",
       "Calibration Curve",
       "Validation Curve",
       "Dimensions",
       "Feature Importance",
       "Decision Boundary"
      ],
      "_view_count": null,
      "_view_module": "@jupyter-widgets/controls",
      "_view_module_version": "1.5.0",
      "_view_name": "ToggleButtonsView",
      "button_style": "",
      "description": "Plot Type:",
      "description_tooltip": null,
      "disabled": false,
      "icons": [
       ""
      ],
      "index": 2,
      "layout": "IPY_MODEL_0a06fb091bd94ce6b6ab892e2c6faadf",
      "style": "IPY_MODEL_8886001bc7c1463ba58a8453f5c55073",
      "tooltips": []
     }
    },
    "22588a12c0db4067982e62ebbe7e6930": {
     "model_module": "@jupyter-widgets/base",
     "model_name": "LayoutModel",
     "state": {
      "_model_module": "@jupyter-widgets/base",
      "_model_module_version": "1.2.0",
      "_model_name": "LayoutModel",
      "_view_count": null,
      "_view_module": "@jupyter-widgets/base",
      "_view_module_version": "1.2.0",
      "_view_name": "LayoutView",
      "align_content": null,
      "align_items": null,
      "align_self": null,
      "border": null,
      "bottom": null,
      "display": null,
      "flex": null,
      "flex_flow": null,
      "grid_area": null,
      "grid_auto_columns": null,
      "grid_auto_flow": null,
      "grid_auto_rows": null,
      "grid_column": null,
      "grid_gap": null,
      "grid_row": null,
      "grid_template_areas": null,
      "grid_template_columns": null,
      "grid_template_rows": null,
      "height": null,
      "justify_content": null,
      "justify_items": null,
      "left": null,
      "margin": null,
      "max_height": null,
      "max_width": null,
      "min_height": null,
      "min_width": null,
      "object_fit": null,
      "object_position": null,
      "order": null,
      "overflow": null,
      "overflow_x": null,
      "overflow_y": null,
      "padding": null,
      "right": null,
      "top": null,
      "visibility": null,
      "width": null
     }
    },
    "2a81017413ca4fe789c2272a5831a069": {
     "model_module": "@jupyter-widgets/base",
     "model_name": "LayoutModel",
     "state": {
      "_model_module": "@jupyter-widgets/base",
      "_model_module_version": "1.2.0",
      "_model_name": "LayoutModel",
      "_view_count": null,
      "_view_module": "@jupyter-widgets/base",
      "_view_module_version": "1.2.0",
      "_view_name": "LayoutView",
      "align_content": null,
      "align_items": null,
      "align_self": null,
      "border": null,
      "bottom": null,
      "display": null,
      "flex": null,
      "flex_flow": null,
      "grid_area": null,
      "grid_auto_columns": null,
      "grid_auto_flow": null,
      "grid_auto_rows": null,
      "grid_column": null,
      "grid_gap": null,
      "grid_row": null,
      "grid_template_areas": null,
      "grid_template_columns": null,
      "grid_template_rows": null,
      "height": null,
      "justify_content": null,
      "justify_items": null,
      "left": null,
      "margin": null,
      "max_height": null,
      "max_width": null,
      "min_height": null,
      "min_width": null,
      "object_fit": null,
      "object_position": null,
      "order": null,
      "overflow": null,
      "overflow_x": null,
      "overflow_y": null,
      "padding": null,
      "right": null,
      "top": null,
      "visibility": null,
      "width": null
     }
    },
    "3cc1e83b91f34b289c7d52003f20a97a": {
     "model_module": "@jupyter-widgets/controls",
     "model_name": "IntProgressModel",
     "state": {
      "_dom_classes": [],
      "_model_module": "@jupyter-widgets/controls",
      "_model_module_version": "1.5.0",
      "_model_name": "IntProgressModel",
      "_view_count": null,
      "_view_module": "@jupyter-widgets/controls",
      "_view_module_version": "1.5.0",
      "_view_name": "ProgressView",
      "bar_style": "",
      "description": "Processing: ",
      "description_tooltip": null,
      "layout": "IPY_MODEL_8399e21b17634116861a5abaa9c0ccf7",
      "max": 5,
      "min": 0,
      "orientation": "horizontal",
      "style": "IPY_MODEL_8d709ec9ec484944b1f9773748857f84",
      "value": 2
     }
    },
    "41031579127f4a53b58957e601465083": {
     "model_module": "@jupyter-widgets/base",
     "model_name": "LayoutModel",
     "state": {
      "_model_module": "@jupyter-widgets/base",
      "_model_module_version": "1.2.0",
      "_model_name": "LayoutModel",
      "_view_count": null,
      "_view_module": "@jupyter-widgets/base",
      "_view_module_version": "1.2.0",
      "_view_name": "LayoutView",
      "align_content": null,
      "align_items": null,
      "align_self": null,
      "border": null,
      "bottom": null,
      "display": null,
      "flex": null,
      "flex_flow": null,
      "grid_area": null,
      "grid_auto_columns": null,
      "grid_auto_flow": null,
      "grid_auto_rows": null,
      "grid_column": null,
      "grid_gap": null,
      "grid_row": null,
      "grid_template_areas": null,
      "grid_template_columns": null,
      "grid_template_rows": null,
      "height": null,
      "justify_content": null,
      "justify_items": null,
      "left": null,
      "margin": null,
      "max_height": null,
      "max_width": null,
      "min_height": null,
      "min_width": null,
      "object_fit": null,
      "object_position": null,
      "order": null,
      "overflow": null,
      "overflow_x": null,
      "overflow_y": null,
      "padding": null,
      "right": null,
      "top": null,
      "visibility": null,
      "width": null
     }
    },
    "42d5400d235d40b78190016ef0dabe11": {
     "model_module": "@jupyter-widgets/controls",
     "model_name": "VBoxModel",
     "state": {
      "_dom_classes": [
       "widget-interact"
      ],
      "_model_module": "@jupyter-widgets/controls",
      "_model_module_version": "1.5.0",
      "_model_name": "VBoxModel",
      "_view_count": null,
      "_view_module": "@jupyter-widgets/controls",
      "_view_module_version": "1.5.0",
      "_view_name": "VBoxView",
      "box_style": "",
      "children": [
       "IPY_MODEL_12bf8b3c6ae8444a900474912589fdf1",
       "IPY_MODEL_9bb3600d38c04691b444ff375ad5e3f5"
      ],
      "layout": "IPY_MODEL_41031579127f4a53b58957e601465083"
     }
    },
    "57b94ac505d142769b79de2f1e5c1166": {
     "model_module": "@jupyter-widgets/controls",
     "model_name": "ProgressStyleModel",
     "state": {
      "_model_module": "@jupyter-widgets/controls",
      "_model_module_version": "1.5.0",
      "_model_name": "ProgressStyleModel",
      "_view_count": null,
      "_view_module": "@jupyter-widgets/base",
      "_view_module_version": "1.2.0",
      "_view_name": "StyleView",
      "bar_color": null,
      "description_width": ""
     }
    },
    "8399e21b17634116861a5abaa9c0ccf7": {
     "model_module": "@jupyter-widgets/base",
     "model_name": "LayoutModel",
     "state": {
      "_model_module": "@jupyter-widgets/base",
      "_model_module_version": "1.2.0",
      "_model_name": "LayoutModel",
      "_view_count": null,
      "_view_module": "@jupyter-widgets/base",
      "_view_module_version": "1.2.0",
      "_view_name": "LayoutView",
      "align_content": null,
      "align_items": null,
      "align_self": null,
      "border": null,
      "bottom": null,
      "display": null,
      "flex": null,
      "flex_flow": null,
      "grid_area": null,
      "grid_auto_columns": null,
      "grid_auto_flow": null,
      "grid_auto_rows": null,
      "grid_column": null,
      "grid_gap": null,
      "grid_row": null,
      "grid_template_areas": null,
      "grid_template_columns": null,
      "grid_template_rows": null,
      "height": null,
      "justify_content": null,
      "justify_items": null,
      "left": null,
      "margin": null,
      "max_height": null,
      "max_width": null,
      "min_height": null,
      "min_width": null,
      "object_fit": null,
      "object_position": null,
      "order": null,
      "overflow": null,
      "overflow_x": null,
      "overflow_y": null,
      "padding": null,
      "right": null,
      "top": null,
      "visibility": null,
      "width": null
     }
    },
    "8886001bc7c1463ba58a8453f5c55073": {
     "model_module": "@jupyter-widgets/controls",
     "model_name": "ToggleButtonsStyleModel",
     "state": {
      "_model_module": "@jupyter-widgets/controls",
      "_model_module_version": "1.5.0",
      "_model_name": "ToggleButtonsStyleModel",
      "_view_count": null,
      "_view_module": "@jupyter-widgets/base",
      "_view_module_version": "1.2.0",
      "_view_name": "StyleView",
      "button_width": "",
      "description_width": "",
      "font_weight": ""
     }
    },
    "8d709ec9ec484944b1f9773748857f84": {
     "model_module": "@jupyter-widgets/controls",
     "model_name": "ProgressStyleModel",
     "state": {
      "_model_module": "@jupyter-widgets/controls",
      "_model_module_version": "1.5.0",
      "_model_name": "ProgressStyleModel",
      "_view_count": null,
      "_view_module": "@jupyter-widgets/base",
      "_view_module_version": "1.2.0",
      "_view_name": "StyleView",
      "bar_color": null,
      "description_width": ""
     }
    },
    "9bb3600d38c04691b444ff375ad5e3f5": {
     "model_module": "@jupyter-widgets/output",
     "model_name": "OutputModel",
     "state": {
      "_dom_classes": [],
      "_model_module": "@jupyter-widgets/output",
      "_model_module_version": "1.0.0",
      "_model_name": "OutputModel",
      "_view_count": null,
      "_view_module": "@jupyter-widgets/output",
      "_view_module_version": "1.0.0",
      "_view_name": "OutputView",
      "layout": "IPY_MODEL_4f8f81ab97b041a58a53c85a1ab97bd4",
      "msg_id": "",
      "outputs": [
       {
        "image/png": "iVBORw0KGgoAAAANSUhEUgAAAeoAAAFlCAYAAAAki6s3AAAABHNCSVQICAgIfAhkiAAAAAlwSFlz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\nAAAm9n9QR+M8QEgGtgAAAABJRU5ErkJggg==\n",
        "metadata": {
         "tags": []
        },
        "output_type": "display_data",
        "text/plain": "<Figure size 576x396 with 1 Axes>"
       }
      ]
     }
    },
    "9e338844e75b4e17be8483529f5f38fd": {
     "model_module": "@jupyter-widgets/controls",
     "model_name": "ProgressStyleModel",
     "state": {
      "_model_module": "@jupyter-widgets/controls",
      "_model_module_version": "1.5.0",
      "_model_name": "ProgressStyleModel",
      "_view_count": null,
      "_view_module": "@jupyter-widgets/base",
      "_view_module_version": "1.2.0",
      "_view_name": "StyleView",
      "bar_color": null,
      "description_width": ""
     }
    },
    "d5b6fce1763b4b54898ff3397b0f5bb0": {
     "model_module": "@jupyter-widgets/controls",
     "model_name": "IntProgressModel",
     "state": {
      "_dom_classes": [],
      "_model_module": "@jupyter-widgets/controls",
      "_model_module_version": "1.5.0",
      "_model_name": "IntProgressModel",
      "_view_count": null,
      "_view_module": "@jupyter-widgets/controls",
      "_view_module_version": "1.5.0",
      "_view_name": "ProgressView",
      "bar_style": "",
      "description": "Processing: ",
      "description_tooltip": null,
      "layout": "IPY_MODEL_2a81017413ca4fe789c2272a5831a069",
      "max": 5,
      "min": 0,
      "orientation": "horizontal",
      "style": "IPY_MODEL_57b94ac505d142769b79de2f1e5c1166",
      "value": 5
     }
    }
   }
  }
 },
 "nbformat": 4,
 "nbformat_minor": 1
}
