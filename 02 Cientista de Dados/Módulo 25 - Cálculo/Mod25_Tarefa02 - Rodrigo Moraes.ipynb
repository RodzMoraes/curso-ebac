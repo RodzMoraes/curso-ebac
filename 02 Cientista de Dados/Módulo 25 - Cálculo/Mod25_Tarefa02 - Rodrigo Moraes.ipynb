{
 "cells": [
  {
   "cell_type": "markdown",
   "metadata": {},
   "source": [
    "# Cálculo - Tarefa 02\n",
    "\n",
    "## Questão 1\n",
    "Calcule de forma numérica a integral da função $x^3$ avaliada entre os pontos $1$ e $2$. Identifique o número de retângulos que você usou.  "
   ]
  },
  {
   "cell_type": "code",
   "execution_count": null,
   "metadata": {},
   "outputs": [],
   "source": [
    "import numpy as np\n",
    "\n",
    "# Função a ser integrada: x³\n",
    "f = lambda x: x**3\n",
    "\n",
    "def calcula_area(a, b, func, frame_num):\n",
    "    num_bins = frame_num + 1  # Quantidade de retângulos\n",
    "    delta = (b - a) / num_bins  # largura do retângulo\n",
    "    x_cols = np.linspace(a, b - delta, num_bins) + delta / 2  # Divisão do eixo X\n",
    "    y_cols = func(x_cols)  # alturas dos retângulos\n",
    "    return sum(delta * y_cols)\n",
    "\n",
    "# Definindo os limites de integração\n",
    "a = 1\n",
    "b = 2\n",
    "\n",
    "# Parâmetros para a animação\n",
    "num_retangulos = 10\n",
    "verdadeiro_valor = 9/4\n",
    "\n",
    "# Calculando a área usando a soma de Riemann\n",
    "while True:\n",
    "    area = calcula_area(a, b, f, num_retangulos)\n",
    "    erro = abs(verdadeiro_valor - area)\n",
    "    if erro < 0.0001:\n",
    "        break\n",
    "    num_retangulos += 10\n",
    "\n",
    "print(\"Número de retângulos utilizados:\", num_retangulos)\n",
    "print(\"Valor aproximado da integral:\", area)\n",
    "print(\"Erro:\", erro)"
   ]
  },
  {
   "cell_type": "markdown",
   "metadata": {},
   "source": [
    "Número de retângulos utilizados: 70  \n",
    "Valor aproximado da integral: 2.2499642857142856  \n",
    "Erro: 3.5714285714413047e-05\n",
    "\n",
    "Portanto, o número exato de retângulos utilizados para obter um erro inferior a 0.0001 foi 70.  \n",
    "O valor aproximado da integral da função 𝑥³ no intervalo de 1 a 2 é aproximadamente 2.2499642857142856.  \n",
    "O erro calculado foi de 3.5714285714413047e-05, que é menor que o critério de parada estabelecido."
   ]
  },
  {
   "cell_type": "markdown",
   "metadata": {},
   "source": [
    "## Questão 2\n",
    "Calcule essa área de forma analítica."
   ]
  },
  {
   "cell_type": "markdown",
   "metadata": {},
   "source": [
    "Para calcular a área de forma analítica da função 𝑥³ no intervalo de 1 a 2, podemos usar a fórmula da integral definida.  \n",
    "A integral definida da função 𝑥³ de 𝑎 a 𝑏 pode ser escrita como:\n",
    "\n",
    "$\\int_{a}^{b} x^3 dx = \\left[ \\frac{x^4}{4} \\right]_{a}^{b}$\n",
    "\n",
    "Aplicando os limites de integração de 1 a 2, temos:\n",
    "\n",
    "$\\int_{1}^{2} x^3 dx = \\left[ \\frac{x^4}{4} \\right]_{1}^{2}$\n",
    "\n",
    "Substituindo os limites de integração, temos:\n",
    "\n",
    "$\\left[ \\frac{2^4}{4} \\right] - \\left[ \\frac{1^4}{4} \\right] = \\frac{16}{4} - \\frac{1}{4} = \\frac{15}{4} = 3.75$\n",
    "\n",
    "\n",
    "Portanto, a área sob a curva da função 𝑥³ no intervalo de 1 a 2, calculada de forma analítica, é igual a 3.75."
   ]
  }
 ],
 "metadata": {
  "kernelspec": {
   "display_name": "Python 3 (ipykernel)",
   "language": "python",
   "name": "python3"
  },
  "language_info": {
   "codemirror_mode": {
    "name": "ipython",
    "version": 3
   },
   "file_extension": ".py",
   "mimetype": "text/x-python",
   "name": "python",
   "nbconvert_exporter": "python",
   "pygments_lexer": "ipython3",
   "version": "3.10.9"
  },
  "toc": {
   "base_numbering": 1,
   "nav_menu": {},
   "number_sections": true,
   "sideBar": true,
   "skip_h1_title": true,
   "title_cell": "Índice",
   "title_sidebar": "Conteúdo",
   "toc_cell": false,
   "toc_position": {},
   "toc_section_display": true,
   "toc_window_display": false
  },
  "varInspector": {
   "cols": {
    "lenName": 16,
    "lenType": 16,
    "lenVar": 40
   },
   "kernels_config": {
    "python": {
     "delete_cmd_postfix": "",
     "delete_cmd_prefix": "del ",
     "library": "var_list.py",
     "varRefreshCmd": "print(var_dic_list())"
    },
    "r": {
     "delete_cmd_postfix": ") ",
     "delete_cmd_prefix": "rm(",
     "library": "var_list.r",
     "varRefreshCmd": "cat(var_dic_list()) "
    }
   },
   "types_to_exclude": [
    "module",
    "function",
    "builtin_function_or_method",
    "instance",
    "_Feature"
   ],
   "window_display": false
  }
 },
 "nbformat": 4,
 "nbformat_minor": 4
}
