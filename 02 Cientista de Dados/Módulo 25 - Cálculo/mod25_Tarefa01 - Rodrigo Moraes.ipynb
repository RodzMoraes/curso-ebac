{
 "cells": [
  {
   "cell_type": "markdown",
   "metadata": {},
   "source": [
    "# Cálculo - Tarefa 01\n",
    "\n",
    "## Questão 1\n",
    "Marque quais desses métodos/algoritmos muito populares em ciência de dados são baseados no uso de derivada:\n",
    "\n",
    "    1. Método Mínimos Quadrados\n",
    "    2. Gradiente descendente\n",
    "    3. Newton Raphson\n",
    "    4. CART (Árvore de decisão)"
   ]
  },
  {
   "cell_type": "markdown",
   "metadata": {},
   "source": [
    "### A. Método Mínimos Quadrados\n",
    "**Não é baseado no uso de derivadas.** O Método dos Mínimos Quadrados é uma técnica estatística que visa encontrar a melhor curva de ajuste para um conjunto de dados, minimizando a soma dos quadrados das diferenças entre os valores observados e os valores preditos pela curva. Ele não requer o uso de derivadas para sua aplicação.\n",
    "\n",
    "### B. Gradiente descendente\n",
    "**É baseado no uso de derivadas.** O Gradiente Descendente é um algoritmo de otimização utilizado em muitos problemas de aprendizado de máquina e aprendizado profundo. Ele usa a derivada da função de custo em relação aos parâmetros do modelo para encontrar a direção de maior descida e atualizar os parâmetros iterativamente. A derivada é fundamental para calcular a taxa de variação da função de custo em relação a cada parâmetro e ajustar seus valores de forma a minimizar a função de custo.\n",
    "\n",
    "### C. Newton Raphson\n",
    "**É baseado no uso de derivadas.** O método de Newton-Raphson é um algoritmo utilizado para encontrar raízes de equações não lineares. Ele usa a derivada da função para estimar a raiz da equação e atualiza iterativamente a estimativa até encontrar uma solução. O cálculo da derivada é essencial para a convergência eficiente do algoritmo.\n",
    "\n",
    "### D. CART (Árvore de decisão)\n",
    "**Não é baseado no uso de derivadas.** O CART (Classificação e Regressão de Árvore) é um algoritmo de aprendizado de máquina que constrói árvores de decisão para classificação e regressão. Ele utiliza critérios como impureza de Gini ou ganho de informação para dividir os dados em cada nó da árvore. Embora o cálculo da impureza ou ganho de informação envolva probabilidade e estatística, não há necessidade direta de derivadas para construir uma árvore de decisão usando o CART."
   ]
  },
  {
   "cell_type": "markdown",
   "metadata": {},
   "source": [
    "## Questão 2\n",
    "Dada uma base de dados com uma variável resposta $y$ e um conjunto de variáveis explicativas. Considere uma estrutura de um modelo de regressão. Explique com suas palavras por que não é possível obter parâmetros que forneçam um erro quadrático médio (EQM) menor que o obtido com estimadores de mínimos quadrados."
   ]
  },
  {
   "cell_type": "markdown",
   "metadata": {},
   "source": [
    "Os estimadores de mínimos quadrados (OLS) são a escolha padrão para ajustar um modelo de regressão linear. Eles são derivados minimizando a soma dos quadrados dos resíduos (diferença entre os valores preditos pelo modelo e os valores observados) e, portanto, fornecem a melhor solução possível no sentido de mínimos quadrados. Em outras palavras, eles são a solução que minimiza a soma dos quadrados das diferenças entre os valores preditos e observados, e não há solução possível que reduza ainda mais essa soma de quadrados.\n",
    "\n",
    "Dessa forma, não é possível obter parâmetros que forneçam um erro quadrático médio (EQM) menor do que aquele obtido com estimadores de mínimos quadrados, pois os estimadores de mínimos quadrados já fornecem a melhor solução possível no sentido de mínimos quadrados. Isso significa que, se tentarmos encontrar um conjunto de parâmetros diferentes dos estimadores de mínimos quadrados que minimize o EQM, não obteremos uma solução melhor e, provavelmente, obteremos uma solução pior. Portanto, os estimadores de mínimos quadrados são considerados os melhores estimadores lineares não viciados (BLUE) para um modelo de regressão linear, e não há solução que possa superar sua eficiência na minimização do erro quadrático médio."
   ]
  },
  {
   "cell_type": "code",
   "execution_count": null,
   "metadata": {},
   "outputs": [],
   "source": []
  }
 ],
 "metadata": {
  "kernelspec": {
   "display_name": "Python 3 (ipykernel)",
   "language": "python",
   "name": "python3"
  },
  "language_info": {
   "codemirror_mode": {
    "name": "ipython",
    "version": 3
   },
   "file_extension": ".py",
   "mimetype": "text/x-python",
   "name": "python",
   "nbconvert_exporter": "python",
   "pygments_lexer": "ipython3",
   "version": "3.10.9"
  },
  "toc": {
   "base_numbering": 1,
   "nav_menu": {},
   "number_sections": true,
   "sideBar": true,
   "skip_h1_title": true,
   "title_cell": "Índice",
   "title_sidebar": "Conteúdo",
   "toc_cell": false,
   "toc_position": {},
   "toc_section_display": true,
   "toc_window_display": false
  },
  "varInspector": {
   "cols": {
    "lenName": 16,
    "lenType": 16,
    "lenVar": 40
   },
   "kernels_config": {
    "python": {
     "delete_cmd_postfix": "",
     "delete_cmd_prefix": "del ",
     "library": "var_list.py",
     "varRefreshCmd": "print(var_dic_list())"
    },
    "r": {
     "delete_cmd_postfix": ") ",
     "delete_cmd_prefix": "rm(",
     "library": "var_list.r",
     "varRefreshCmd": "cat(var_dic_list()) "
    }
   },
   "types_to_exclude": [
    "module",
    "function",
    "builtin_function_or_method",
    "instance",
    "_Feature"
   ],
   "window_display": false
  }
 },
 "nbformat": 4,
 "nbformat_minor": 4
}
