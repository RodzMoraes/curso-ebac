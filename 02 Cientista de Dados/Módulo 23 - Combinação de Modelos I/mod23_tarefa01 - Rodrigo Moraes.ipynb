{
 "cells": [
  {
   "cell_type": "markdown",
   "id": "17ca4c88",
   "metadata": {},
   "source": [
    "# Tópico 1 - Passo a passo para o Bagging"
   ]
  },
  {
   "cell_type": "markdown",
   "id": "ec6db1f3",
   "metadata": {},
   "source": [
    "### Passo 1: Coleta dos dados\n",
    "\n",
    "Reúna um conjunto de dados que será utilizado para treinar e testar o modelo."
   ]
  },
  {
   "cell_type": "markdown",
   "id": "2af5d434",
   "metadata": {},
   "source": [
    "### Passo 2: Divisão dos dados\n",
    "\n",
    "Separe o conjunto de dados em conjuntos de treinamento e teste. O conjunto de treinamento será usado para treinar o modelo, enquanto o conjunto de teste será usado para avaliar o desempenho do modelo."
   ]
  },
  {
   "cell_type": "markdown",
   "id": "8d9dcfdb",
   "metadata": {},
   "source": [
    "### Passo 3: Criação dos modelos base\n",
    "\n",
    "Escolha um algoritmo de aprendizado de máquina, como árvores de decisão, regressão linear, etc. Crie vários modelos base utilizando o mesmo algoritmo, mas treinando-os em diferentes subconjuntos dos dados de treinamento. Esses modelos base podem ser treinados de forma paralela."
   ]
  },
  {
   "cell_type": "markdown",
   "id": "b3650c5c",
   "metadata": {},
   "source": [
    "### Passo 4: Treinamento dos modelos base\n",
    "\n",
    "Treine cada modelo base utilizando um subconjunto aleatório dos dados de treinamento. Cada modelo base deve ser treinado de forma independente dos outros modelos."
   ]
  },
  {
   "cell_type": "markdown",
   "id": "3138aecd",
   "metadata": {},
   "source": [
    "### Passo 5: Combinação dos modelos base\n",
    "\n",
    "Combine as previsões dos modelos base para obter uma previsão final. Isso pode ser feito por votação (no caso de classificação) ou média (no caso de regressão)."
   ]
  },
  {
   "cell_type": "markdown",
   "id": "b39fafd5",
   "metadata": {},
   "source": [
    "### Passo 6: Avaliação do modelo\n",
    "\n",
    "Teste o modelo final utilizando o conjunto de teste. Calcule as métricas de desempenho, como precisão, recall, acurácia, erro médio quadrático, etc."
   ]
  },
  {
   "cell_type": "markdown",
   "id": "77ca8ada",
   "metadata": {},
   "source": [
    "### Passo 7: Ajuste e otimização\n",
    "\n",
    "Caso necessário, ajuste os parâmetros do algoritmo de aprendizado de máquina utilizado nos modelos base ou experimente outros algoritmos para melhorar o desempenho do modelo."
   ]
  },
  {
   "cell_type": "markdown",
   "id": "a60bd9ad",
   "metadata": {},
   "source": [
    "### Passo 8: Aplicação do modelo\n",
    "\n",
    "Após o treinamento e ajuste adequados, o modelo final pode ser usado para fazer previsões em novos conjuntos de dados."
   ]
  },
  {
   "cell_type": "markdown",
   "id": "fc74907e",
   "metadata": {},
   "source": [
    "# Tópico 2 - O que é o Bagging?"
   ]
  },
  {
   "cell_type": "markdown",
   "id": "217771b4",
   "metadata": {},
   "source": [
    "O Bagging (Bootstrap Aggregating) é uma técnica de aprendizado de máquina que visa melhorar a precisão e a estabilidade dos modelos por meio da combinação de múltiplos modelos base. A ideia principal do Bagging é criar vários modelos base que são treinados de forma independente em diferentes subconjuntos dos dados de treinamento.\n",
    "\n",
    "O processo começa dividindo o conjunto de dados de treinamento em subconjuntos menores, selecionados aleatoriamente com substituição. Cada subconjunto é usado para treinar um modelo base separado, que pode ser um algoritmo de aprendizado de máquina, como uma árvore de decisão.\n",
    "\n",
    "Ao treinar cada modelo base em subconjuntos diferentes, estamos introduzindo variações nos dados de treinamento. Essas variações ajudam a capturar diferentes aspectos dos dados e a evitar que um único modelo se ajuste demais ou seja sensível a anomalias.\n",
    "\n",
    "Uma vez que todos os modelos base são treinados, suas previsões individuais são combinadas para obter uma previsão final. No caso de problemas de classificação, isso geralmente é feito por votação, onde cada modelo base emite uma votação para a classe prevista e a classe com mais votos é escolhida como a previsão final. Para problemas de regressão, a combinação pode ser feita pela média das previsões dos modelos base.\n",
    "\n",
    "A combinação das previsões dos modelos base no Bagging reduz a variância e melhora a precisão do modelo final. Isso ocorre porque as variações introduzidas pelos diferentes subconjuntos de treinamento e pelos modelos base ajudam a compensar os erros individuais e produzir uma previsão mais robusta e confiável.\n",
    "\n",
    "O Bagging é uma técnica popular que tem sido amplamente utilizada em diferentes áreas, como classificação, regressão e detecção de anomalias. É particularmente eficaz quando aplicado a modelos complexos ou sensíveis a ruídos nos dados de treinamento, e também ajuda a lidar com o overfitting, tornando os modelos mais estáveis e generalizáveis."
   ]
  },
  {
   "cell_type": "markdown",
   "id": "856846dd",
   "metadata": {},
   "source": [
    "# Tópico 3 - Exemplo de implementação do Bagging usando Python: "
   ]
  },
  {
   "cell_type": "markdown",
   "id": "ea1250bc",
   "metadata": {},
   "source": [
    "A implementação do Bagging em Python é bastante viável, uma vez que existem bibliotecas e frameworks de machine learning robustos disponíveis, como scikit-learn e TensorFlow, que fornecem funcionalidades para implementar facilmente essa técnica.\n",
    "\n",
    "Abaixo segue um pequeno exemplo de implementação em Python, onde é definido um pequeno conjunto de dados de treinamento e teste apenas para fins ilustrativos. O código cria 10 modelos base usando árvores de decisão, realiza as previsões e calcula a acurácia do Bagging usando a função accuracy_score. "
   ]
  },
  {
   "cell_type": "code",
   "execution_count": 2,
   "id": "a748d69f",
   "metadata": {},
   "outputs": [
    {
     "name": "stdout",
     "output_type": "stream",
     "text": [
      "Bagging Accuracy: 1.0\n"
     ]
    }
   ],
   "source": [
    "from sklearn.utils import resample\n",
    "from sklearn.metrics import accuracy_score\n",
    "from sklearn.tree import DecisionTreeClassifier\n",
    "import numpy as np\n",
    "\n",
    "X_train = [[1, 2], [3, 4], [5, 6], [7, 8]]\n",
    "y_train = [0, 1, 0, 1]\n",
    "\n",
    "X_test = [[2, 3], [4, 5]]\n",
    "y_test = [0, 1]\n",
    "\n",
    "n_models = 10\n",
    "\n",
    "models = []\n",
    "predictions = []\n",
    "\n",
    "for _ in range(n_models):\n",
    "    # Amostragem aleatória com substituição\n",
    "    X_subset, y_subset = resample(X_train, y_train)\n",
    "\n",
    "    model = DecisionTreeClassifier()\n",
    "    model.fit(X_subset, y_subset)\n",
    "    models.append(model)\n",
    "\n",
    "    y_pred = model.predict(X_test)\n",
    "    predictions.append(y_pred)\n",
    "\n",
    "predictions = np.array(predictions)\n",
    "\n",
    "# Realizar a agregação (por exemplo, votação para classificação)\n",
    "y_final = np.apply_along_axis(lambda x: np.argmax(np.bincount(x)), axis=0, arr=predictions)\n",
    "\n",
    "\n",
    "bagging_accuracy = accuracy_score(y_test, y_final)\n",
    "print(\"Bagging Accuracy:\", bagging_accuracy)"
   ]
  },
  {
   "cell_type": "code",
   "execution_count": null,
   "id": "e937c059",
   "metadata": {},
   "outputs": [],
   "source": []
  }
 ],
 "metadata": {
  "kernelspec": {
   "display_name": "Python 3 (ipykernel)",
   "language": "python",
   "name": "python3"
  },
  "language_info": {
   "codemirror_mode": {
    "name": "ipython",
    "version": 3
   },
   "file_extension": ".py",
   "mimetype": "text/x-python",
   "name": "python",
   "nbconvert_exporter": "python",
   "pygments_lexer": "ipython3",
   "version": "3.10.9"
  }
 },
 "nbformat": 4,
 "nbformat_minor": 5
}
