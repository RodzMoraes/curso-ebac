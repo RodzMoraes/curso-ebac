{
 "cells": [
  {
   "cell_type": "markdown",
   "id": "17ca4c88",
   "metadata": {},
   "source": [
    "# Tópico 1 - Quais são os hiperparâmetros do Random Forest?"
   ]
  },
  {
   "cell_type": "markdown",
   "id": "ec6db1f3",
   "metadata": {},
   "source": [
    "O Random Forest possui vários hiperparâmetros que podem ser ajustados para controlar o comportamento e o desempenho do modelo. Aqui estão alguns dos principais hiperparâmetros do Random Forest:\n",
    "\n",
    "**n_estimators**<br>\n",
    "Especifica o número de árvores no conjunto do Random Forest. Um número maior de árvores geralmente leva a um modelo mais robusto, mas também aumenta o tempo de treinamento. O número de árvores geralmente é definido entre 100 e 1000, dependendo do tamanho do conjunto de dados.\n",
    "\n",
    "**criterion**<br>\n",
    "Define a medida de qualidade da divisão em cada nó da árvore. Os valores comuns são \"gini\" para o índice de Gini e \"entropy\" para a entropia.\n",
    "\n",
    "**max_depth**<br>\n",
    "Define a profundidade máxima das árvores de decisão. Controla a complexidade das árvores e evita o overfitting. Se definido como None, os nós serão expandidos até que todas as folhas sejam puras ou até que todas as folhas contenham menos de min_samples_split amostras.\n",
    "\n",
    "**min_samples_split**<br>\n",
    "Define o número mínimo de amostras necessárias para realizar uma divisão em um nó interno. Se uma determinada divisão levar a um número de amostras inferior a esse valor, a divisão não será realizada.\n",
    "\n",
    "**min_samples_leaf**<br>\n",
    "Define o número mínimo de amostras necessárias em um nó folha. Garante que cada folha tenha um número mínimo de amostras e controla a regularização do modelo. O 'min_samples_split' e o 'min_samples_leaf' podem ser ajustados para controlar a complexidade do modelo e evitar o overfitting. Valores comuns são 2, 5 ou 10, mas podem variar dependendo do tamanho do conjunto de dados.\n",
    "\n",
    "**max_features**<br>\n",
    "Controla o número de recursos considerados em cada divisão. Pode ser um valor inteiro, um float ou uma string. Alguns valores comuns são \"sqrt\" (raiz quadrada do número total de recursos), \"log2\" (logaritmo de base 2 do número total de recursos) ou \"auto\" (equivalente a \"sqrt\").\n",
    "\n",
    "**bootstrap**<br>\n",
    "Especifica se amostragem com reposição deve ser usada ao construir árvores individuais. Se definido como True, cada árvore é treinada em um subconjunto aleatório dos dados de treinamento. Se definido como False, cada árvore é treinada no conjunto de treinamento completo.\n",
    "\n",
    "Esses são apenas alguns dos principais hiperparâmetros do Random Forest. Existem outros hiperparâmetros disponíveis, como max_leaf_nodes, min_impurity_decrease, entre outros, que podem ser ajustados conforme necessário, dependendo do problema e dos dados. A escolha adequada dos hiperparâmetros pode afetar significativamente o desempenho e a generalização do modelo Random Forest."
   ]
  },
  {
   "cell_type": "markdown",
   "id": "fa6d6443",
   "metadata": {},
   "source": [
    "#### Exemplo de código demonstrando a aplicação de alguns hiperparâmetros:"
   ]
  },
  {
   "cell_type": "code",
   "execution_count": 3,
   "id": "9888b6fc",
   "metadata": {},
   "outputs": [
    {
     "name": "stdout",
     "output_type": "stream",
     "text": [
      "Accuracy: 0.88\n"
     ]
    }
   ],
   "source": [
    "from sklearn.ensemble import RandomForestClassifier\n",
    "from sklearn.datasets import make_classification\n",
    "from sklearn.model_selection import train_test_split\n",
    "from sklearn.metrics import accuracy_score\n",
    "\n",
    "# Gerando um conjunto de dados de exemplo\n",
    "X, y = make_classification(n_samples=1000, n_features=20, random_state=42)\n",
    "X_train, X_test, y_train, y_test = train_test_split(X, y, test_size=0.2, random_state=42)\n",
    "\n",
    "# Definindo os hiperparâmetros do Random Forest\n",
    "n_estimators = 100\n",
    "max_features = 'sqrt'\n",
    "max_depth = 10\n",
    "min_samples_split = 5\n",
    "\n",
    "# Criando o modelo Random Forest\n",
    "random_forest = RandomForestClassifier(n_estimators=n_estimators, \n",
    "                                       max_features=max_features, \n",
    "                                       max_depth=max_depth, \n",
    "                                       min_samples_split=min_samples_split)\n",
    "\n",
    "\n",
    "random_forest.fit(X_train, y_train)\n",
    "y_pred = random_forest.predict(X_test)\n",
    "\n",
    "accuracy = accuracy_score(y_test, y_pred)\n",
    "print(\"Accuracy:\", accuracy)"
   ]
  },
  {
   "cell_type": "markdown",
   "id": "1093bef9",
   "metadata": {},
   "source": [
    "Neste exemplo, definimos o número de árvores (n_estimators) como 100, a seleção de atributos (max_features) como \"sqrt\" (raiz quadrada do número total de atributos), a profundidade máxima das árvores (max_depth) como 10 e o número mínimo de amostras para realizar uma divisão em um nó (min_samples_split) como 5."
   ]
  }
 ],
 "metadata": {
  "kernelspec": {
   "display_name": "Python 3 (ipykernel)",
   "language": "python",
   "name": "python3"
  },
  "language_info": {
   "codemirror_mode": {
    "name": "ipython",
    "version": 3
   },
   "file_extension": ".py",
   "mimetype": "text/x-python",
   "name": "python",
   "nbconvert_exporter": "python",
   "pygments_lexer": "ipython3",
   "version": "3.10.9"
  }
 },
 "nbformat": 4,
 "nbformat_minor": 5
}
